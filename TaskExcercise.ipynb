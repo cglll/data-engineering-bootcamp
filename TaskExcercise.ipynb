{
 "cells": [
  {
   "cell_type": "markdown",
   "metadata": {},
   "source": [
    "# Wizeline task for bootcamp"
   ]
  },
  {
   "cell_type": "markdown",
   "metadata": {},
   "source": [
    "### Carla Garcia"
   ]
  },
  {
   "cell_type": "markdown",
   "metadata": {},
   "source": [
    "# Import libraries"
   ]
  },
  {
   "cell_type": "code",
   "execution_count": 92,
   "metadata": {},
   "outputs": [],
   "source": [
    "import pandas as pd\n",
    "from functools import reduce\n",
    "from folium import plugins\n",
    "import folium\n",
    "import sys\n",
    "import pandas as pd\n",
    "import datetime\n",
    "import branca.colormap\n",
    "from collections import defaultdict\n",
    "from folium.plugins import FastMarkerCluster\n",
    "from folium import Map, FeatureGroup, Marker, LayerControl\n",
    "from folium.plugins import MarkerCluster\n"
   ]
  },
  {
   "cell_type": "markdown",
   "metadata": {},
   "source": [
    "# Load data"
   ]
  },
  {
   "cell_type": "code",
   "execution_count": 107,
   "metadata": {},
   "outputs": [
    {
     "name": "stdout",
     "output_type": "stream",
     "text": [
      "<class 'pandas.core.frame.DataFrame'>\n",
      "RangeIndex: 1999 entries, 0 to 1998\n",
      "Data columns (total 15 columns):\n",
      " #   Column           Non-Null Count  Dtype  \n",
      "---  ------           --------------  -----  \n",
      " 0   producto         1999 non-null   object \n",
      " 1   presentacion     1999 non-null   object \n",
      " 2   marca            1999 non-null   object \n",
      " 3   categoria        1999 non-null   object \n",
      " 4   catalogo         1999 non-null   object \n",
      " 5   precio           1999 non-null   float64\n",
      " 6   fechaRegistro    1999 non-null   object \n",
      " 7   cadenaComercial  1999 non-null   object \n",
      " 8   giro             1999 non-null   object \n",
      " 9   nombreComercial  1999 non-null   object \n",
      " 10  direccion        1999 non-null   object \n",
      " 11  estado           1999 non-null   object \n",
      " 12  municipio        1999 non-null   object \n",
      " 13  latitud          1229 non-null   float64\n",
      " 14  longitud         1229 non-null   float64\n",
      "dtypes: float64(3), object(12)\n",
      "memory usage: 234.4+ KB\n"
     ]
    }
   ],
   "source": [
    "dataset=pd.read_csv('.\\data\\sample.csv')\n",
    "dataset.info()"
   ]
  },
  {
   "cell_type": "markdown",
   "metadata": {},
   "source": [
    "## Calculating required memory"
   ]
  },
  {
   "cell_type": "code",
   "execution_count": 86,
   "metadata": {},
   "outputs": [
    {
     "name": "stderr",
     "output_type": "stream",
     "text": [
      "C:\\ProgramData\\Anaconda3\\lib\\site-packages\\IPython\\core\\interactiveshell.py:3071: DtypeWarning: Columns (5,13,14) have mixed types.Specify dtype option on import or set low_memory=False.\n",
      "  has_raised = await self.run_ast_nodes(code_ast.body, cell_name,\n"
     ]
    }
   ],
   "source": [
    "dataset_profeco = pd.read_csv('.\\profeco.zip', chunksize=10000000)\n",
    "def memory_count(chunk):\n",
    "    return     chunk.memory_usage(deep=True)\n",
    "\n",
    "def add(previous_result, new_result):\n",
    "    return previous_result.add(new_result, fill_value=0)\n",
    "\n",
    "dataset_map=map(memory_count, dataset_profeco)\n",
    "dataset_reduce=reduce(add,dataset_map)\n"
   ]
  },
  {
   "cell_type": "code",
   "execution_count": 87,
   "metadata": {},
   "outputs": [
    {
     "name": "stdout",
     "output_type": "stream",
     "text": [
      "The required RAM on peaks will be 62682940849 bytes\n"
     ]
    }
   ],
   "source": [
    "print(\"The required RAM on peaks will be\",dataset_reduce.sum(),\"bytes\")"
   ]
  },
  {
   "cell_type": "code",
   "execution_count": 89,
   "metadata": {},
   "outputs": [
    {
     "data": {
      "text/plain": [
       "False"
      ]
     },
     "execution_count": 89,
     "metadata": {},
     "output_type": "execute_result"
    }
   ],
   "source": [
    "current_PC_RAM=34359738368\n",
    "current_PC_RAM>dataset_reduce.sum()"
   ]
  },
  {
   "cell_type": "markdown",
   "metadata": {},
   "source": [
    "### The current PC ram is not enough to process the entire dataset at same time.\n",
    "### Chunk processing for extracting only the required columns is the selected technique"
   ]
  },
  {
   "cell_type": "code",
   "execution_count": 51,
   "metadata": {},
   "outputs": [],
   "source": [
    "#Chunk big file\n",
    "dataset_profeco = pd.read_csv('.\\profeco.zip', chunksize=10000000)\n",
    "\n",
    "def read_chunk(columns):\n",
    "    dataset_profeco = pd.read_csv('.\\profeco.zip', chunksize=10000000)\n",
    "    chunk_list = []  # append each chunk df here \n",
    "    i=0\n",
    "    # Each chunk is in df format\n",
    "    for chunk in dataset_profeco:  \n",
    "        # perform data filtering \n",
    "        chunk_filter = chunk[columns]\n",
    "        print(i)\n",
    "        # Once the data filtering is done, append the chunk to list\n",
    "        chunk_list.append(chunk_filter)\n",
    "        i=i+1\n",
    "    # concat the list into dataframe \n",
    "    df_concat = pd.concat(chunk_list)\n",
    "    return df_concat\n",
    "\n",
    "#Other test saving in files\n",
    "batch_no=1\n",
    "for chunk in dataset_profeco:\n",
    "    chunk.to_csv('chunk'+str(batch_no)+'.csv',index=False)\n",
    "    batch_no+=1"
   ]
  },
  {
   "cell_type": "markdown",
   "metadata": {},
   "source": [
    "## Q1 Process"
   ]
  },
  {
   "cell_type": "code",
   "execution_count": 24,
   "metadata": {},
   "outputs": [
    {
     "name": "stdout",
     "output_type": "stream",
     "text": [
      "0\n",
      "1\n",
      "2\n",
      "3\n",
      "4\n",
      "5\n",
      "6\n"
     ]
    }
   ],
   "source": [
    "#Extraction\n",
    "COLUMNS_Q1=['cadenaComercial']\n",
    "dataset_Q1=dataset['cadenaComercial']\n",
    "dataset_Q1=read_chunk(COLUMNS_Q1)\n",
    "#Transformation\n",
    "count_cadena_comercial_Q1=dataset_Q1.nunique()\n",
    "del dataset_Q1"
   ]
  },
  {
   "cell_type": "markdown",
   "metadata": {},
   "source": [
    "## Q2 Process"
   ]
  },
  {
   "cell_type": "markdown",
   "metadata": {},
   "source": [
    "### Process that only work with sample.csv"
   ]
  },
  {
   "cell_type": "code",
   "execution_count": 41,
   "metadata": {},
   "outputs": [
    {
     "data": {
      "text/plain": [
       "estado            producto               \n",
       "DISTRITO FEDERAL  DETERGENTE P/ROPA          25\n",
       "                  LECHE ULTRAPASTEURIZADA    23\n",
       "                  REFRESCO                   22\n",
       "                  CHILES EN LATA             21\n",
       "                  MAYONESA                   20\n",
       "                  SHAMPOO                    18\n",
       "                  TELEVISORES                17\n",
       "                  GALLETAS DULCES            16\n",
       "                  JABON DE TOCADOR           16\n",
       "                  FUD                        14\n",
       "MÉXICO            REFRESCO                   26\n",
       "                  DETERGENTE P/ROPA          24\n",
       "                  SHAMPOO                    19\n",
       "                  CHILES EN LATA             18\n",
       "                  LECHE ULTRAPASTEURIZADA    17\n",
       "                  MAYONESA                   17\n",
       "                  TOALLA FEMENINA            17\n",
       "                  DESODORANTE                15\n",
       "                  TELEVISORES                15\n",
       "                  YOGHURT                    15\n",
       "Name: producto, dtype: int64"
      ]
     },
     "execution_count": 41,
     "metadata": {},
     "output_type": "execute_result"
    }
   ],
   "source": [
    "#Extraction\n",
    "COLUMNS_Q2=['estado','producto']\n",
    "dataset_Q2=dataset[COLUMNS_Q2]\n",
    "#dataset_Q2=read_chunk(COLUMNS_Q2)\n",
    "#Transformation\n",
    "top_10_products=dataset_Q2.groupby(COLUMNS_Q2,group_keys=False)['producto'].count()\n",
    "top_10_products_filter=top_10_products.groupby(\"estado\",group_keys=False).nlargest(10)\n",
    "del dataset_Q2\n",
    "top_10_products_filter\n"
   ]
  },
  {
   "cell_type": "markdown",
   "metadata": {},
   "source": [
    "### Process that work with big file"
   ]
  },
  {
   "cell_type": "code",
   "execution_count": 44,
   "metadata": {},
   "outputs": [
    {
     "name": "stdout",
     "output_type": "stream",
     "text": [
      "0\n",
      "1\n",
      "2\n",
      "3\n"
     ]
    },
    {
     "name": "stderr",
     "output_type": "stream",
     "text": [
      "C:\\ProgramData\\Anaconda3\\lib\\site-packages\\IPython\\core\\interactiveshell.py:3263: DtypeWarning: Columns (5,13,14) have mixed types.Specify dtype option on import or set low_memory=False.\n",
      "  if (await self.run_code(code, result,  async_=asy)):\n"
     ]
    },
    {
     "name": "stdout",
     "output_type": "stream",
     "text": [
      "4\n",
      "5\n",
      "6\n"
     ]
    },
    {
     "data": {
      "text/html": [
       "<div>\n",
       "<style scoped>\n",
       "    .dataframe tbody tr th:only-of-type {\n",
       "        vertical-align: middle;\n",
       "    }\n",
       "\n",
       "    .dataframe tbody tr th {\n",
       "        vertical-align: top;\n",
       "    }\n",
       "\n",
       "    .dataframe thead th {\n",
       "        text-align: right;\n",
       "    }\n",
       "</style>\n",
       "<table border=\"1\" class=\"dataframe\">\n",
       "  <thead>\n",
       "    <tr style=\"text-align: right;\">\n",
       "      <th></th>\n",
       "      <th>estado</th>\n",
       "      <th>producto</th>\n",
       "      <th>cuenta</th>\n",
       "    </tr>\n",
       "  </thead>\n",
       "  <tbody>\n",
       "    <tr>\n",
       "      <th>397</th>\n",
       "      <td>AGUASCALIENTES</td>\n",
       "      <td>FUD</td>\n",
       "      <td>12005</td>\n",
       "    </tr>\n",
       "    <tr>\n",
       "      <th>302</th>\n",
       "      <td>AGUASCALIENTES</td>\n",
       "      <td>DETERGENTE P/ROPA</td>\n",
       "      <td>10188</td>\n",
       "    </tr>\n",
       "    <tr>\n",
       "      <th>520</th>\n",
       "      <td>AGUASCALIENTES</td>\n",
       "      <td>LECHE ULTRAPASTEURIZADA</td>\n",
       "      <td>9824</td>\n",
       "    </tr>\n",
       "    <tr>\n",
       "      <th>813</th>\n",
       "      <td>AGUASCALIENTES</td>\n",
       "      <td>SHAMPOO</td>\n",
       "      <td>9654</td>\n",
       "    </tr>\n",
       "    <tr>\n",
       "      <th>762</th>\n",
       "      <td>AGUASCALIENTES</td>\n",
       "      <td>REFRESCO</td>\n",
       "      <td>9481</td>\n",
       "    </tr>\n",
       "    <tr>\n",
       "      <th>301</th>\n",
       "      <td>AGUASCALIENTES</td>\n",
       "      <td>DESODORANTE</td>\n",
       "      <td>8859</td>\n",
       "    </tr>\n",
       "    <tr>\n",
       "      <th>467</th>\n",
       "      <td>AGUASCALIENTES</td>\n",
       "      <td>JABON DE TOCADOR</td>\n",
       "      <td>8517</td>\n",
       "    </tr>\n",
       "    <tr>\n",
       "      <th>214</th>\n",
       "      <td>AGUASCALIENTES</td>\n",
       "      <td>CHILES EN LATA</td>\n",
       "      <td>7946</td>\n",
       "    </tr>\n",
       "    <tr>\n",
       "      <th>930</th>\n",
       "      <td>AGUASCALIENTES</td>\n",
       "      <td>YOGHURT</td>\n",
       "      <td>7401</td>\n",
       "    </tr>\n",
       "    <tr>\n",
       "      <th>575</th>\n",
       "      <td>AGUASCALIENTES</td>\n",
       "      <td>MAYONESA</td>\n",
       "      <td>7173</td>\n",
       "    </tr>\n",
       "    <tr>\n",
       "      <th>1558</th>\n",
       "      <td>BAJA CALIFORNIA</td>\n",
       "      <td>REFRESCO</td>\n",
       "      <td>37243</td>\n",
       "    </tr>\n",
       "    <tr>\n",
       "      <th>1185</th>\n",
       "      <td>BAJA CALIFORNIA</td>\n",
       "      <td>DETERGENTE P/ROPA</td>\n",
       "      <td>23395</td>\n",
       "    </tr>\n",
       "    <tr>\n",
       "      <th>1261</th>\n",
       "      <td>BAJA CALIFORNIA</td>\n",
       "      <td>FUD</td>\n",
       "      <td>19967</td>\n",
       "    </tr>\n",
       "    <tr>\n",
       "      <th>1600</th>\n",
       "      <td>BAJA CALIFORNIA</td>\n",
       "      <td>SHAMPOO</td>\n",
       "      <td>19123</td>\n",
       "    </tr>\n",
       "    <tr>\n",
       "      <th>1313</th>\n",
       "      <td>BAJA CALIFORNIA</td>\n",
       "      <td>JABON DE TOCADOR</td>\n",
       "      <td>18348</td>\n",
       "    </tr>\n",
       "    <tr>\n",
       "      <th>1113</th>\n",
       "      <td>BAJA CALIFORNIA</td>\n",
       "      <td>CHILES EN LATA</td>\n",
       "      <td>16676</td>\n",
       "    </tr>\n",
       "    <tr>\n",
       "      <th>1266</th>\n",
       "      <td>BAJA CALIFORNIA</td>\n",
       "      <td>GALLETAS</td>\n",
       "      <td>15873</td>\n",
       "    </tr>\n",
       "    <tr>\n",
       "      <th>1473</th>\n",
       "      <td>BAJA CALIFORNIA</td>\n",
       "      <td>PANTALLAS</td>\n",
       "      <td>15703</td>\n",
       "    </tr>\n",
       "    <tr>\n",
       "      <th>1100</th>\n",
       "      <td>BAJA CALIFORNIA</td>\n",
       "      <td>CEREALES</td>\n",
       "      <td>15398</td>\n",
       "    </tr>\n",
       "    <tr>\n",
       "      <th>1184</th>\n",
       "      <td>BAJA CALIFORNIA</td>\n",
       "      <td>DESODORANTE</td>\n",
       "      <td>14748</td>\n",
       "    </tr>\n",
       "    <tr>\n",
       "      <th>2312</th>\n",
       "      <td>BAJA CALIFORNIA SUR</td>\n",
       "      <td>REFRESCO</td>\n",
       "      <td>27770</td>\n",
       "    </tr>\n",
       "    <tr>\n",
       "      <th>2018</th>\n",
       "      <td>BAJA CALIFORNIA SUR</td>\n",
       "      <td>FUD</td>\n",
       "      <td>17776</td>\n",
       "    </tr>\n",
       "    <tr>\n",
       "      <th>2228</th>\n",
       "      <td>BAJA CALIFORNIA SUR</td>\n",
       "      <td>PANTALLAS</td>\n",
       "      <td>17383</td>\n",
       "    </tr>\n",
       "    <tr>\n",
       "      <th>1942</th>\n",
       "      <td>BAJA CALIFORNIA SUR</td>\n",
       "      <td>DETERGENTE P/ROPA</td>\n",
       "      <td>15510</td>\n",
       "    </tr>\n",
       "    <tr>\n",
       "      <th>2111</th>\n",
       "      <td>BAJA CALIFORNIA SUR</td>\n",
       "      <td>LAVADORAS</td>\n",
       "      <td>13242</td>\n",
       "    </tr>\n",
       "    <tr>\n",
       "      <th>2354</th>\n",
       "      <td>BAJA CALIFORNIA SUR</td>\n",
       "      <td>SHAMPOO</td>\n",
       "      <td>12844</td>\n",
       "    </tr>\n",
       "    <tr>\n",
       "      <th>2070</th>\n",
       "      <td>BAJA CALIFORNIA SUR</td>\n",
       "      <td>JABON DE TOCADOR</td>\n",
       "      <td>12799</td>\n",
       "    </tr>\n",
       "    <tr>\n",
       "      <th>1871</th>\n",
       "      <td>BAJA CALIFORNIA SUR</td>\n",
       "      <td>CHILES EN LATA</td>\n",
       "      <td>11537</td>\n",
       "    </tr>\n",
       "    <tr>\n",
       "      <th>2274</th>\n",
       "      <td>BAJA CALIFORNIA SUR</td>\n",
       "      <td>PLANCHAS</td>\n",
       "      <td>11301</td>\n",
       "    </tr>\n",
       "    <tr>\n",
       "      <th>1906</th>\n",
       "      <td>BAJA CALIFORNIA SUR</td>\n",
       "      <td>COMPONENTES DE AUDIO</td>\n",
       "      <td>11036</td>\n",
       "    </tr>\n",
       "    <tr>\n",
       "      <th>2775</th>\n",
       "      <td>CAMPECHE</td>\n",
       "      <td>FUD</td>\n",
       "      <td>12960</td>\n",
       "    </tr>\n",
       "    <tr>\n",
       "      <th>3068</th>\n",
       "      <td>CAMPECHE</td>\n",
       "      <td>REFRESCO</td>\n",
       "      <td>11333</td>\n",
       "    </tr>\n",
       "    <tr>\n",
       "      <th>2984</th>\n",
       "      <td>CAMPECHE</td>\n",
       "      <td>PANTALLAS</td>\n",
       "      <td>10449</td>\n",
       "    </tr>\n",
       "    <tr>\n",
       "      <th>2868</th>\n",
       "      <td>CAMPECHE</td>\n",
       "      <td>LAVADORAS</td>\n",
       "      <td>9729</td>\n",
       "    </tr>\n",
       "    <tr>\n",
       "      <th>2699</th>\n",
       "      <td>CAMPECHE</td>\n",
       "      <td>DETERGENTE P/ROPA</td>\n",
       "      <td>8307</td>\n",
       "    </tr>\n",
       "    <tr>\n",
       "      <th>2872</th>\n",
       "      <td>CAMPECHE</td>\n",
       "      <td>LECHE ULTRAPASTEURIZADA</td>\n",
       "      <td>8027</td>\n",
       "    </tr>\n",
       "    <tr>\n",
       "      <th>3070</th>\n",
       "      <td>CAMPECHE</td>\n",
       "      <td>REFRIGERADORES</td>\n",
       "      <td>7572</td>\n",
       "    </tr>\n",
       "    <tr>\n",
       "      <th>3110</th>\n",
       "      <td>CAMPECHE</td>\n",
       "      <td>SHAMPOO</td>\n",
       "      <td>7560</td>\n",
       "    </tr>\n",
       "    <tr>\n",
       "      <th>2827</th>\n",
       "      <td>CAMPECHE</td>\n",
       "      <td>JABON DE TOCADOR</td>\n",
       "      <td>7543</td>\n",
       "    </tr>\n",
       "    <tr>\n",
       "      <th>3030</th>\n",
       "      <td>CAMPECHE</td>\n",
       "      <td>PLANCHAS</td>\n",
       "      <td>7139</td>\n",
       "    </tr>\n",
       "    <tr>\n",
       "      <th>3821</th>\n",
       "      <td>CHIAPAS</td>\n",
       "      <td>REFRESCO</td>\n",
       "      <td>14452</td>\n",
       "    </tr>\n",
       "    <tr>\n",
       "      <th>3529</th>\n",
       "      <td>CHIAPAS</td>\n",
       "      <td>FUD</td>\n",
       "      <td>10417</td>\n",
       "    </tr>\n",
       "    <tr>\n",
       "      <th>3454</th>\n",
       "      <td>CHIAPAS</td>\n",
       "      <td>DETERGENTE P/ROPA</td>\n",
       "      <td>8831</td>\n",
       "    </tr>\n",
       "    <tr>\n",
       "      <th>3738</th>\n",
       "      <td>CHIAPAS</td>\n",
       "      <td>PANTALLAS</td>\n",
       "      <td>8395</td>\n",
       "    </tr>\n",
       "    <tr>\n",
       "      <th>3580</th>\n",
       "      <td>CHIAPAS</td>\n",
       "      <td>JABON DE TOCADOR</td>\n",
       "      <td>7841</td>\n",
       "    </tr>\n",
       "    <tr>\n",
       "      <th>3382</th>\n",
       "      <td>CHIAPAS</td>\n",
       "      <td>CHILES EN LATA</td>\n",
       "      <td>7707</td>\n",
       "    </tr>\n",
       "    <tr>\n",
       "      <th>3863</th>\n",
       "      <td>CHIAPAS</td>\n",
       "      <td>SHAMPOO</td>\n",
       "      <td>7601</td>\n",
       "    </tr>\n",
       "    <tr>\n",
       "      <th>3625</th>\n",
       "      <td>CHIAPAS</td>\n",
       "      <td>LECHE ULTRAPASTEURIZADA</td>\n",
       "      <td>7278</td>\n",
       "    </tr>\n",
       "    <tr>\n",
       "      <th>3453</th>\n",
       "      <td>CHIAPAS</td>\n",
       "      <td>DESODORANTE</td>\n",
       "      <td>7038</td>\n",
       "    </tr>\n",
       "    <tr>\n",
       "      <th>3370</th>\n",
       "      <td>CHIAPAS</td>\n",
       "      <td>CERVEZA</td>\n",
       "      <td>6980</td>\n",
       "    </tr>\n",
       "  </tbody>\n",
       "</table>\n",
       "</div>"
      ],
      "text/plain": [
       "                   estado                 producto  cuenta\n",
       "397        AGUASCALIENTES                      FUD   12005\n",
       "302        AGUASCALIENTES        DETERGENTE P/ROPA   10188\n",
       "520        AGUASCALIENTES  LECHE ULTRAPASTEURIZADA    9824\n",
       "813        AGUASCALIENTES                  SHAMPOO    9654\n",
       "762        AGUASCALIENTES                 REFRESCO    9481\n",
       "301        AGUASCALIENTES              DESODORANTE    8859\n",
       "467        AGUASCALIENTES         JABON DE TOCADOR    8517\n",
       "214        AGUASCALIENTES           CHILES EN LATA    7946\n",
       "930        AGUASCALIENTES                  YOGHURT    7401\n",
       "575        AGUASCALIENTES                 MAYONESA    7173\n",
       "1558      BAJA CALIFORNIA                 REFRESCO   37243\n",
       "1185      BAJA CALIFORNIA        DETERGENTE P/ROPA   23395\n",
       "1261      BAJA CALIFORNIA                      FUD   19967\n",
       "1600      BAJA CALIFORNIA                  SHAMPOO   19123\n",
       "1313      BAJA CALIFORNIA         JABON DE TOCADOR   18348\n",
       "1113      BAJA CALIFORNIA           CHILES EN LATA   16676\n",
       "1266      BAJA CALIFORNIA                 GALLETAS   15873\n",
       "1473      BAJA CALIFORNIA                PANTALLAS   15703\n",
       "1100      BAJA CALIFORNIA                 CEREALES   15398\n",
       "1184      BAJA CALIFORNIA              DESODORANTE   14748\n",
       "2312  BAJA CALIFORNIA SUR                 REFRESCO   27770\n",
       "2018  BAJA CALIFORNIA SUR                      FUD   17776\n",
       "2228  BAJA CALIFORNIA SUR                PANTALLAS   17383\n",
       "1942  BAJA CALIFORNIA SUR        DETERGENTE P/ROPA   15510\n",
       "2111  BAJA CALIFORNIA SUR                LAVADORAS   13242\n",
       "2354  BAJA CALIFORNIA SUR                  SHAMPOO   12844\n",
       "2070  BAJA CALIFORNIA SUR         JABON DE TOCADOR   12799\n",
       "1871  BAJA CALIFORNIA SUR           CHILES EN LATA   11537\n",
       "2274  BAJA CALIFORNIA SUR                 PLANCHAS   11301\n",
       "1906  BAJA CALIFORNIA SUR     COMPONENTES DE AUDIO   11036\n",
       "2775             CAMPECHE                      FUD   12960\n",
       "3068             CAMPECHE                 REFRESCO   11333\n",
       "2984             CAMPECHE                PANTALLAS   10449\n",
       "2868             CAMPECHE                LAVADORAS    9729\n",
       "2699             CAMPECHE        DETERGENTE P/ROPA    8307\n",
       "2872             CAMPECHE  LECHE ULTRAPASTEURIZADA    8027\n",
       "3070             CAMPECHE           REFRIGERADORES    7572\n",
       "3110             CAMPECHE                  SHAMPOO    7560\n",
       "2827             CAMPECHE         JABON DE TOCADOR    7543\n",
       "3030             CAMPECHE                 PLANCHAS    7139\n",
       "3821              CHIAPAS                 REFRESCO   14452\n",
       "3529              CHIAPAS                      FUD   10417\n",
       "3454              CHIAPAS        DETERGENTE P/ROPA    8831\n",
       "3738              CHIAPAS                PANTALLAS    8395\n",
       "3580              CHIAPAS         JABON DE TOCADOR    7841\n",
       "3382              CHIAPAS           CHILES EN LATA    7707\n",
       "3863              CHIAPAS                  SHAMPOO    7601\n",
       "3625              CHIAPAS  LECHE ULTRAPASTEURIZADA    7278\n",
       "3453              CHIAPAS              DESODORANTE    7038\n",
       "3370              CHIAPAS                  CERVEZA    6980"
      ]
     },
     "execution_count": 44,
     "metadata": {},
     "output_type": "execute_result"
    }
   ],
   "source": [
    "#Extraction\n",
    "COLUMNS_Q2=['estado','producto','marca']\n",
    "dataset_Q2=read_chunk(COLUMNS_Q2)\n",
    "#dataset_Q2=pd.read_csv(r'.\\top_10_raw_data.csv')\n",
    "#Transformation\n",
    "#group per state and product count.\n",
    "top_10_products=dataset_Q2.groupby(['estado','producto'],group_keys=False)['producto'].count()\n",
    "#convert series to dataframe.\n",
    "df=pd.DataFrame(top_10_products)\n",
    "#rename column with counts to cuenta\n",
    "df=df.rename(columns={'producto':'cuenta'})\n",
    "#reset previous index\n",
    "df=df.reset_index()\n",
    "#sort values by state and cuenta\n",
    "df=df.sort_values(['estado','cuenta'],ascending=(True,False))\n",
    "#group by estado and only take the first 10\n",
    "df_10=df.groupby('estado',group_keys=False).head(10)\n",
    "del dataset_Q2\n",
    "df_10.head(50)"
   ]
  },
  {
   "cell_type": "markdown",
   "metadata": {},
   "source": [
    "## Q3 process"
   ]
  },
  {
   "cell_type": "code",
   "execution_count": 5,
   "metadata": {},
   "outputs": [
    {
     "name": "stdout",
     "output_type": "stream",
     "text": [
      "0\n",
      "1\n",
      "2\n",
      "3\n"
     ]
    },
    {
     "name": "stderr",
     "output_type": "stream",
     "text": [
      "C:\\ProgramData\\Anaconda3\\lib\\site-packages\\IPython\\core\\interactiveshell.py:3263: DtypeWarning: Columns (5,13,14) have mixed types.Specify dtype option on import or set low_memory=False.\n",
      "  if (await self.run_code(code, result,  async_=asy)):\n"
     ]
    },
    {
     "name": "stdout",
     "output_type": "stream",
     "text": [
      "4\n",
      "5\n",
      "6\n"
     ]
    }
   ],
   "source": [
    "#Extraction\n",
    "COLUMNS_Q3=['cadenaComercial','producto']\n",
    "#dataset_Q3=dataset[COLUMNS_Q3]\n",
    "dataset_Q3=read_chunk(COLUMNS_Q3)\n",
    "#Transformation\n",
    "cadena_per_product=dataset_Q3.groupby(['cadenaComercial']).producto.count()\n",
    "cadena_most_monitoring_prod=cadena_per_product.nlargest(1).reset_index()\n",
    "cadena_most_monitoring_prod['cadenaComercial'][0:]\n",
    "del dataset_Q3"
   ]
  },
  {
   "cell_type": "markdown",
   "metadata": {},
   "source": [
    "# Q1 How many commercial chains are monitored, and therefore, included in this database?\n"
   ]
  },
  {
   "cell_type": "code",
   "execution_count": 60,
   "metadata": {},
   "outputs": [
    {
     "name": "stdout",
     "output_type": "stream",
     "text": [
      "There are 705 commercial chains which products are  monitored\n"
     ]
    }
   ],
   "source": [
    "print(f\"There are {count_cadena_comercial_Q1[0]} commercial chains which products are  monitored\")"
   ]
  },
  {
   "cell_type": "markdown",
   "metadata": {},
   "source": [
    "#  Q2 What are the top 10 monitored products by State?"
   ]
  },
  {
   "cell_type": "code",
   "execution_count": 45,
   "metadata": {},
   "outputs": [
    {
     "name": "stdout",
     "output_type": "stream",
     "text": [
      "Top 10 products by state can be reviewed in .\\top_10_per_state.csv\n"
     ]
    }
   ],
   "source": [
    "path=r'.\\top_10_per_state.csv'\n",
    "df_10.to_csv('example.csv')\n",
    "print(f\"Top 10 products by state can be reviewed in {path}\")"
   ]
  },
  {
   "cell_type": "markdown",
   "metadata": {},
   "source": [
    "# Q3 Which is the commercial chain with the highest number of monitored products?"
   ]
  },
  {
   "cell_type": "code",
   "execution_count": 79,
   "metadata": {},
   "outputs": [
    {
     "ename": "NameError",
     "evalue": "name 'cadena_most_monitoring_prod' is not defined",
     "output_type": "error",
     "traceback": [
      "\u001b[1;31m---------------------------------------------------------------------------\u001b[0m",
      "\u001b[1;31mNameError\u001b[0m                                 Traceback (most recent call last)",
      "\u001b[1;32m<ipython-input-79-70bdffd438cd>\u001b[0m in \u001b[0;36m<module>\u001b[1;34m\u001b[0m\n\u001b[1;32m----> 1\u001b[1;33m \u001b[0mprint\u001b[0m\u001b[1;33m(\u001b[0m\u001b[1;34mf\" Comercial chain with highest number of monitored products is: {cadena_most_monitoring_prod['cadenaComercial'].values[0]}\"\u001b[0m\u001b[1;33m)\u001b[0m\u001b[1;33m\u001b[0m\u001b[1;33m\u001b[0m\u001b[0m\n\u001b[0m",
      "\u001b[1;31mNameError\u001b[0m: name 'cadena_most_monitoring_prod' is not defined"
     ]
    }
   ],
   "source": [
    "print(f\" Comercial chain with highest number of monitored products is: {cadena_most_monitoring_prod['cadenaComercial'].values[0]}\")"
   ]
  },
  {
   "cell_type": "code",
   "execution_count": 7,
   "metadata": {},
   "outputs": [
    {
     "data": {
      "text/html": [
       "<div>\n",
       "<style scoped>\n",
       "    .dataframe tbody tr th:only-of-type {\n",
       "        vertical-align: middle;\n",
       "    }\n",
       "\n",
       "    .dataframe tbody tr th {\n",
       "        vertical-align: top;\n",
       "    }\n",
       "\n",
       "    .dataframe thead th {\n",
       "        text-align: right;\n",
       "    }\n",
       "</style>\n",
       "<table border=\"1\" class=\"dataframe\">\n",
       "  <thead>\n",
       "    <tr style=\"text-align: right;\">\n",
       "      <th></th>\n",
       "      <th>cadenaComercial</th>\n",
       "      <th>producto</th>\n",
       "    </tr>\n",
       "  </thead>\n",
       "  <tbody>\n",
       "    <tr>\n",
       "      <th>0</th>\n",
       "      <td>WAL-MART</td>\n",
       "      <td>8643133</td>\n",
       "    </tr>\n",
       "  </tbody>\n",
       "</table>\n",
       "</div>"
      ],
      "text/plain": [
       "  cadenaComercial  producto\n",
       "0        WAL-MART   8643133"
      ]
     },
     "execution_count": 7,
     "metadata": {},
     "output_type": "execute_result"
    }
   ],
   "source": [
    "cadena_most_monitoring_prod"
   ]
  },
  {
   "cell_type": "markdown",
   "metadata": {},
   "source": [
    "# Q4 Use the data to find an interesting fact"
   ]
  },
  {
   "cell_type": "code",
   "execution_count": 142,
   "metadata": {},
   "outputs": [],
   "source": [
    "#This function gets latitudes per state to make a heatmap\n",
    "def get_lats_state_giro(chunk):\n",
    "    #Parameters to filter in a better way this needs to be queried in using the function\n",
    "    estado='CAMPECHE'\n",
    "    giro='TIENDA DE AUTOSERVICIO'\n",
    "    year=2011\n",
    "    #Select the required columns\n",
    "    chunk=chunk[['latitud','longitud','estado','fechaRegistro','giro']]\n",
    "    #Filtering actions\n",
    "    chunk=chunk[chunk['estado']==estado]\n",
    "    chunk=chunk[chunk['giro']==giro]\n",
    "    #Dropping nulls\n",
    "    chunk=chunk.dropna()\n",
    "    #Modifing type to date\n",
    "    chunk['fechaRegistro']=pd.to_datetime(chunk['fechaRegistro'])\n",
    "    chunk=chunk[chunk['fechaRegistro'].dt.year==year]\n",
    "    chunk['Timestamp']=chunk['fechaRegistro'].dt.strftime('%m/%Y')\n",
    "    date_strings=chunk['Timestamp'].unique()\n",
    "    #Format data for the heat map\n",
    "    heat_data = [[[row['latitud'],row['longitud']] for index,row in chunk[chunk['Timestamp'] == fecha].iterrows()] for fecha in date_strings]\n",
    "    return heat_data\n",
    "\n",
    "#This function returns a dataset with prices per location the objective is to map the cheaper places to find this product in\n",
    "#the selected state.\n",
    "def get_better_price(chunk):\n",
    "    #Parameters to filter in a better way this needs to be queried in using the function\n",
    "    estado='DISTRITO FEDERAL'\n",
    "    producto='REFRESCO'\n",
    "    marca='COCA COLA'\n",
    "    presentacion='LATA 355 ML.'\n",
    "    #Select the required columns\n",
    "    chunk=chunk[['latitud','longitud','estado','producto','fechaRegistro','precio','presentacion','marca','nombreComercial']]\n",
    "    #Filtering actions\n",
    "    chunk=chunk[chunk['estado']==estado]\n",
    "    chunk=chunk[chunk['marca']==marca]\n",
    "    chunk=chunk[chunk['producto']==producto]\n",
    "    chunk=chunk[chunk['presentacion']==presentacion]\n",
    "    # Ensure handling this parameters as floats\n",
    "    chunk['latitud'] = chunk['latitud'].astype(float)\n",
    "    chunk['longitud'] = chunk['longitud'].astype(float)\n",
    "    chunk['precio'] = chunk['precio'].astype(float)\n",
    "    #dropping rows with nulls.\n",
    "    chunk=chunk.dropna()\n",
    "    #Formatting date/time\n",
    "    chunk['fechaRegistro']=pd.to_datetime(chunk['fechaRegistro'])\n",
    "    chunk['Timestamp']=chunk['fechaRegistro'].dt.strftime('%m/%Y')\n",
    "    date_strings=chunk['Timestamp'].unique()\n",
    "    #Making agregation with minimum prices.\n",
    "    Best_prices=chunk.groupby(['presentacion','nombreComercial','latitud','longitud','Timestamp'],group_keys=False).agg({'precio':'min'})\n",
    "    Best_prices=pd.DataFrame(Best_prices)\n",
    "    Best_prices.head()\n",
    "    Best_prices=Best_prices.reset_index()\n",
    "    Best_prices_map=Best_prices[['latitud','longitud','precio']]\n",
    "    #Formatting to plot in map \n",
    "    Best_prices_map=Best_prices_map.values.tolist()\n",
    "    return Best_prices_map\n",
    "\n",
    "#The objective of this function is to return prices ordered by price, The information extracted from this function is\n",
    "#to  plot a time series to review the behavior of price over time\n",
    "def get_better_price_TOP10(chunk):\n",
    "    #Parameters to filter in a better way this needs to be queried in using the function\n",
    "    estado='DISTRITO FEDERAL'\n",
    "    producto='REFRESCO'\n",
    "    marca='COCA COLA'\n",
    "    presentacion='LATA 355 ML.'\n",
    "    #Select the required columns\n",
    "    chunk=chunk[['latitud','longitud','estado','producto','fechaRegistro','precio','presentacion','marca','nombreComercial']]\n",
    "    #Filtering actions\n",
    "    chunk=chunk[chunk['estado']==estado]\n",
    "    chunk=chunk[chunk['marca']==marca]\n",
    "    chunk=chunk[chunk['producto']==producto]\n",
    "    chunk=chunk[chunk['presentacion']==presentacion]\n",
    "    # Ensure handling this parameters as floats\n",
    "    chunk['latitud'] = chunk['latitud'].astype(float)\n",
    "    chunk['longitud'] = chunk['longitud'].astype(float)\n",
    "    chunk['precio'] = chunk['precio'].astype(float)\n",
    "    #dropping rows with nulls.\n",
    "    chunk=chunk.dropna()\n",
    "    #Formatting date/time\n",
    "    chunk['fechaRegistro']=pd.to_datetime(chunk['fechaRegistro'])\n",
    "    chunk['Timestamp']=chunk['fechaRegistro'].dt.strftime('%m/%Y')\n",
    "    date_strings=chunk['Timestamp'].unique()\n",
    "    Best_prices=chunk.groupby(['presentacion','nombreComercial','latitud','longitud','Timestamp'],group_keys=False).agg({'precio':'avg'})\n",
    "    Best_prices=pd.DataFrame(Best_prices)\n",
    "    Best_prices.head()\n",
    "    Best_prices=Best_prices.reset_index()\n",
    "    Best_prices=Best_prices.sort_values(['precio','nombreComercial','presentacion','Timestamp'],ascending=(True,True,False,False))\n",
    "    #Return the cheaper prices in a dataframe\n",
    "    return Best_prices\n",
    "\n",
    "    \n",
    "    "
   ]
  },
  {
   "cell_type": "markdown",
   "metadata": {},
   "source": [
    "## Example1: Which are the places with more monitored products? Which are located the places with the cheapest price for this product?"
   ]
  },
  {
   "cell_type": "markdown",
   "metadata": {},
   "source": [
    "### Make map to process data in chunks"
   ]
  },
  {
   "cell_type": "code",
   "execution_count": 139,
   "metadata": {},
   "outputs": [],
   "source": [
    "dataset_profeco = pd.read_csv('.\\profeco.zip', chunksize=100000)\n",
    "better_price_map=map(get_better_price,dataset_profeco)"
   ]
  },
  {
   "cell_type": "markdown",
   "metadata": {},
   "source": [
    "### Combine results of each chunk"
   ]
  },
  {
   "cell_type": "code",
   "execution_count": 70,
   "metadata": {},
   "outputs": [
    {
     "name": "stderr",
     "output_type": "stream",
     "text": [
      "C:\\ProgramData\\Anaconda3\\lib\\site-packages\\IPython\\core\\interactiveshell.py:3071: DtypeWarning: Columns (5,13,14) have mixed types.Specify dtype option on import or set low_memory=False.\n",
      "  has_raised = await self.run_ast_nodes(code_ast.body, cell_name,\n"
     ]
    }
   ],
   "source": [
    "new=[]\n",
    "for elem in better_price_map:\n",
    "    for subset in elem:\n",
    "        new.append(subset)"
   ]
  },
  {
   "cell_type": "markdown",
   "metadata": {},
   "source": [
    "### Normalize price to 0 to 1 value"
   ]
  },
  {
   "cell_type": "code",
   "execution_count": 71,
   "metadata": {},
   "outputs": [],
   "source": [
    "prices=[elem[2] for elem in new]\n",
    "#(x-min(x))/(max(x)-min(x))\n",
    "new2=[[elem[0],elem[1],(elem[2]-min(prices))/(max(prices)-min(prices))] for elem in new]"
   ]
  },
  {
   "cell_type": "code",
   "execution_count": 74,
   "metadata": {},
   "outputs": [
    {
     "data": {
      "text/plain": [
       "13494"
      ]
     },
     "execution_count": 74,
     "metadata": {},
     "output_type": "execute_result"
    }
   ],
   "source": [
    "len(prices)"
   ]
  },
  {
   "cell_type": "markdown",
   "metadata": {},
   "source": [
    "### Create map using folium"
   ]
  },
  {
   "cell_type": "code",
   "execution_count": 187,
   "metadata": {},
   "outputs": [],
   "source": [
    "#define map legend and color bar\n",
    "map_hooray = folium.Map(location=[19.4424, -99.1309882],zoom_start = 5)\n",
    "steps=20\n",
    "colormap = branca.colormap.linear.YlOrRd_09.scale(0, 1).to_step(steps)\n",
    "gradient_map=defaultdict(dict)\n",
    "for i in range(steps):\n",
    "    gradient_map[1/steps*i] = colormap.rgb_hex_str(1/steps*i)\n",
    "colormap.add_to(map_hooray) #add color bar at the top of the map\n",
    "plugins.HeatMap(new2,radius=15, blur = 10, min_opacity = 0, max_val = 1,gradient = gradient_map).add_to(map_hooray)\n",
    "#Divide minimum prices in 3 subsets for each tertile where green are the middle price, red the highest and orange the lowest.\n",
    "color_green=[[elem[0],elem[1],elem[2]] for elem in new2 if ((elem[2]>=0.33) and (elem[2]<=0.66))]\n",
    "color_red=[[elem[0],elem[1]] for elem in new2 if (elem[2]>0.66)]\n",
    "color_orange=[[elem[0],elem[1]] for elem in new2 if (elem[2]<0.33)]\n",
    "#Add the markers to the map\n",
    "marker_cluster = MarkerCluster().add_to(map_hooray)\n",
    "'''callback = \"\"\"\\\n",
    "function (row) {\n",
    "    var icon, marker;\n",
    "    icon = L.AwesomeMarkers.icon({\n",
    "        icon: \"map-marker\", markerColor: \"red\"});\n",
    "    marker = L.marker(new L.LatLng(row[0], row[1]));\n",
    "    marker.setIcon(icon);\n",
    "    return marker;\n",
    "};\n",
    "\"\"\"\n",
    "map_hooray.add_child(FastMarkerCluster(color_red,callback=callback))'''\n",
    "callback = \"\"\"\\\n",
    "function (row) {\n",
    "    var icon, marker;\n",
    "    icon = L.AwesomeMarkers.icon({\n",
    "        icon: \"map-marker\", markerColor: \"orange\"});\n",
    "    marker = L.marker(new L.LatLng(row[0], row[1]));\n",
    "    marker.setIcon(icon);\n",
    "    return marker;\n",
    "};\n",
    "\"\"\"\n",
    "map_hooray.add_child(FastMarkerCluster(color_orange,callback=callback))\n",
    "map_hooray.save('heat_map_cheaper_locations.html')"
   ]
  },
  {
   "cell_type": "code",
   "execution_count": null,
   "metadata": {},
   "outputs": [],
   "source": [
    "#Extraction\n",
    "COLUMNS_Ex=['producto','presentacion','marca','precio','estado']\n",
    "dataset_Ex=read_chunk(COLUMNS_Ex)\n",
    "#dataset_Q2=read_chunk(COLUMNS_Q2)\n",
    "#Transformation\n",
    "dataset_Ex2=dataset_Ex[dataset_Ex['producto']=='REFRESCO']\n",
    "dataset_Ex2=dataset_Ex2[dataset_Ex2['marca']=='COCA COLA']\n",
    "dataset_Ex2=dataset_Ex2[dataset_Ex2['presentacion']=='LATA 355 ML.']\n",
    "group=dataset_Ex2.groupby(['estado','precio'],group_keys=False).agg({'precio':'min'})\n",
    "group.to_csv('group.csv')\n"
   ]
  },
  {
   "cell_type": "code",
   "execution_count": 53,
   "metadata": {},
   "outputs": [],
   "source": [
    "group.to_csv('group.csv')\n"
   ]
  },
  {
   "cell_type": "code",
   "execution_count": 158,
   "metadata": {},
   "outputs": [
    {
     "data": {
      "text/html": [
       "<div>\n",
       "<style scoped>\n",
       "    .dataframe tbody tr th:only-of-type {\n",
       "        vertical-align: middle;\n",
       "    }\n",
       "\n",
       "    .dataframe tbody tr th {\n",
       "        vertical-align: top;\n",
       "    }\n",
       "\n",
       "    .dataframe thead th {\n",
       "        text-align: right;\n",
       "    }\n",
       "</style>\n",
       "<table border=\"1\" class=\"dataframe\">\n",
       "  <thead>\n",
       "    <tr style=\"text-align: right;\">\n",
       "      <th></th>\n",
       "      <th>producto</th>\n",
       "      <th>presentacion</th>\n",
       "      <th>marca</th>\n",
       "      <th>categoria</th>\n",
       "      <th>catalogo</th>\n",
       "      <th>precio</th>\n",
       "      <th>fechaRegistro</th>\n",
       "      <th>cadenaComercial</th>\n",
       "      <th>giro</th>\n",
       "      <th>nombreComercial</th>\n",
       "      <th>direccion</th>\n",
       "      <th>estado</th>\n",
       "      <th>municipio</th>\n",
       "      <th>latitud</th>\n",
       "      <th>longitud</th>\n",
       "      <th>Timestamp</th>\n",
       "    </tr>\n",
       "  </thead>\n",
       "  <tbody>\n",
       "    <tr>\n",
       "      <th>0</th>\n",
       "      <td>CUADERNO FORMA ITALIANA</td>\n",
       "      <td>96 HOJAS PASTA DURA. CUADRICULA CHICA</td>\n",
       "      <td>ESTRELLA</td>\n",
       "      <td>MATERIAL ESCOLAR</td>\n",
       "      <td>UTILES ESCOLARES</td>\n",
       "      <td>25.9</td>\n",
       "      <td>2011-05-18</td>\n",
       "      <td>ABASTECEDORA LUMEN</td>\n",
       "      <td>PAPELERIAS</td>\n",
       "      <td>ABASTECEDORA LUMEN SUCURSAL VILLA COAPA</td>\n",
       "      <td>CANNES No. 6 ESQ. CANAL DE MIRAMONTES</td>\n",
       "      <td>DISTRITO FEDERAL</td>\n",
       "      <td>TLALPAN</td>\n",
       "      <td>19.29699</td>\n",
       "      <td>-99.125417</td>\n",
       "      <td>18/05/2011, 00:00:00</td>\n",
       "    </tr>\n",
       "    <tr>\n",
       "      <th>1</th>\n",
       "      <td>CRAYONES</td>\n",
       "      <td>CAJA 12 CERAS. JUMBO. C.B. 201423</td>\n",
       "      <td>CRAYOLA</td>\n",
       "      <td>MATERIAL ESCOLAR</td>\n",
       "      <td>UTILES ESCOLARES</td>\n",
       "      <td>27.5</td>\n",
       "      <td>2011-05-18</td>\n",
       "      <td>ABASTECEDORA LUMEN</td>\n",
       "      <td>PAPELERIAS</td>\n",
       "      <td>ABASTECEDORA LUMEN SUCURSAL VILLA COAPA</td>\n",
       "      <td>CANNES No. 6 ESQ. CANAL DE MIRAMONTES</td>\n",
       "      <td>DISTRITO FEDERAL</td>\n",
       "      <td>TLALPAN</td>\n",
       "      <td>19.29699</td>\n",
       "      <td>-99.125417</td>\n",
       "      <td>18/05/2011, 00:00:00</td>\n",
       "    </tr>\n",
       "    <tr>\n",
       "      <th>2</th>\n",
       "      <td>CRAYONES</td>\n",
       "      <td>CAJA 12 CERAS. TAMANO REGULAR C.B. 201034</td>\n",
       "      <td>CRAYOLA</td>\n",
       "      <td>MATERIAL ESCOLAR</td>\n",
       "      <td>UTILES ESCOLARES</td>\n",
       "      <td>13.9</td>\n",
       "      <td>2011-05-18</td>\n",
       "      <td>ABASTECEDORA LUMEN</td>\n",
       "      <td>PAPELERIAS</td>\n",
       "      <td>ABASTECEDORA LUMEN SUCURSAL VILLA COAPA</td>\n",
       "      <td>CANNES No. 6 ESQ. CANAL DE MIRAMONTES</td>\n",
       "      <td>DISTRITO FEDERAL</td>\n",
       "      <td>TLALPAN</td>\n",
       "      <td>19.29699</td>\n",
       "      <td>-99.125417</td>\n",
       "      <td>18/05/2011, 00:00:00</td>\n",
       "    </tr>\n",
       "    <tr>\n",
       "      <th>3</th>\n",
       "      <td>COLORES DE MADERA</td>\n",
       "      <td>CAJA 12 PIEZAS LARGO. TRIANGULAR. C.B. 640646</td>\n",
       "      <td>PINCELIN</td>\n",
       "      <td>MATERIAL ESCOLAR</td>\n",
       "      <td>UTILES ESCOLARES</td>\n",
       "      <td>46.9</td>\n",
       "      <td>2011-05-18</td>\n",
       "      <td>ABASTECEDORA LUMEN</td>\n",
       "      <td>PAPELERIAS</td>\n",
       "      <td>ABASTECEDORA LUMEN SUCURSAL VILLA COAPA</td>\n",
       "      <td>CANNES No. 6 ESQ. CANAL DE MIRAMONTES</td>\n",
       "      <td>DISTRITO FEDERAL</td>\n",
       "      <td>TLALPAN</td>\n",
       "      <td>19.29699</td>\n",
       "      <td>-99.125417</td>\n",
       "      <td>18/05/2011, 00:00:00</td>\n",
       "    </tr>\n",
       "    <tr>\n",
       "      <th>4</th>\n",
       "      <td>COLOR LARGO</td>\n",
       "      <td>CAJA 36 PIEZAS. CON SACAPUNTAS. 68-4036</td>\n",
       "      <td>CRAYOLA</td>\n",
       "      <td>MATERIAL ESCOLAR</td>\n",
       "      <td>UTILES ESCOLARES</td>\n",
       "      <td>115.0</td>\n",
       "      <td>2011-05-18</td>\n",
       "      <td>ABASTECEDORA LUMEN</td>\n",
       "      <td>PAPELERIAS</td>\n",
       "      <td>ABASTECEDORA LUMEN SUCURSAL VILLA COAPA</td>\n",
       "      <td>CANNES No. 6 ESQ. CANAL DE MIRAMONTES</td>\n",
       "      <td>DISTRITO FEDERAL</td>\n",
       "      <td>TLALPAN</td>\n",
       "      <td>19.29699</td>\n",
       "      <td>-99.125417</td>\n",
       "      <td>18/05/2011, 00:00:00</td>\n",
       "    </tr>\n",
       "  </tbody>\n",
       "</table>\n",
       "</div>"
      ],
      "text/plain": [
       "                  producto                                   presentacion  \\\n",
       "0  CUADERNO FORMA ITALIANA          96 HOJAS PASTA DURA. CUADRICULA CHICA   \n",
       "1                 CRAYONES              CAJA 12 CERAS. JUMBO. C.B. 201423   \n",
       "2                 CRAYONES      CAJA 12 CERAS. TAMANO REGULAR C.B. 201034   \n",
       "3        COLORES DE MADERA  CAJA 12 PIEZAS LARGO. TRIANGULAR. C.B. 640646   \n",
       "4              COLOR LARGO        CAJA 36 PIEZAS. CON SACAPUNTAS. 68-4036   \n",
       "\n",
       "      marca         categoria          catalogo  precio fechaRegistro  \\\n",
       "0  ESTRELLA  MATERIAL ESCOLAR  UTILES ESCOLARES    25.9    2011-05-18   \n",
       "1   CRAYOLA  MATERIAL ESCOLAR  UTILES ESCOLARES    27.5    2011-05-18   \n",
       "2   CRAYOLA  MATERIAL ESCOLAR  UTILES ESCOLARES    13.9    2011-05-18   \n",
       "3  PINCELIN  MATERIAL ESCOLAR  UTILES ESCOLARES    46.9    2011-05-18   \n",
       "4   CRAYOLA  MATERIAL ESCOLAR  UTILES ESCOLARES   115.0    2011-05-18   \n",
       "\n",
       "      cadenaComercial        giro                          nombreComercial  \\\n",
       "0  ABASTECEDORA LUMEN  PAPELERIAS  ABASTECEDORA LUMEN SUCURSAL VILLA COAPA   \n",
       "1  ABASTECEDORA LUMEN  PAPELERIAS  ABASTECEDORA LUMEN SUCURSAL VILLA COAPA   \n",
       "2  ABASTECEDORA LUMEN  PAPELERIAS  ABASTECEDORA LUMEN SUCURSAL VILLA COAPA   \n",
       "3  ABASTECEDORA LUMEN  PAPELERIAS  ABASTECEDORA LUMEN SUCURSAL VILLA COAPA   \n",
       "4  ABASTECEDORA LUMEN  PAPELERIAS  ABASTECEDORA LUMEN SUCURSAL VILLA COAPA   \n",
       "\n",
       "                               direccion            estado  \\\n",
       "0  CANNES No. 6 ESQ. CANAL DE MIRAMONTES  DISTRITO FEDERAL   \n",
       "1  CANNES No. 6 ESQ. CANAL DE MIRAMONTES  DISTRITO FEDERAL   \n",
       "2  CANNES No. 6 ESQ. CANAL DE MIRAMONTES  DISTRITO FEDERAL   \n",
       "3  CANNES No. 6 ESQ. CANAL DE MIRAMONTES  DISTRITO FEDERAL   \n",
       "4  CANNES No. 6 ESQ. CANAL DE MIRAMONTES  DISTRITO FEDERAL   \n",
       "\n",
       "                                  municipio   latitud   longitud  \\\n",
       "0  TLALPAN                                   19.29699 -99.125417   \n",
       "1  TLALPAN                                   19.29699 -99.125417   \n",
       "2  TLALPAN                                   19.29699 -99.125417   \n",
       "3  TLALPAN                                   19.29699 -99.125417   \n",
       "4  TLALPAN                                   19.29699 -99.125417   \n",
       "\n",
       "              Timestamp  \n",
       "0  18/05/2011, 00:00:00  \n",
       "1  18/05/2011, 00:00:00  \n",
       "2  18/05/2011, 00:00:00  \n",
       "3  18/05/2011, 00:00:00  \n",
       "4  18/05/2011, 00:00:00  "
      ]
     },
     "execution_count": 158,
     "metadata": {},
     "output_type": "execute_result"
    }
   ],
   "source": [
    "dataset.head()"
   ]
  },
  {
   "cell_type": "code",
   "execution_count": 169,
   "metadata": {},
   "outputs": [
    {
     "name": "stderr",
     "output_type": "stream",
     "text": [
      "C:\\ProgramData\\Anaconda3\\lib\\site-packages\\IPython\\core\\interactiveshell.py:3071: DtypeWarning: Columns (5,13,14) have mixed types.Specify dtype option on import or set low_memory=False.\n",
      "  has_raised = await self.run_ast_nodes(code_ast.body, cell_name,\n"
     ]
    }
   ],
   "source": [
    "dataset_profeco = pd.read_csv('.\\profeco.zip', chunksize=100000)\n",
    "better_price=map(get_better_price_TOP10,dataset_profeco)\n",
    "test=pd.DataFrame()\n",
    "data=list(better_price)\n",
    "df_concat = pd.concat(data)\n"
   ]
  },
  {
   "cell_type": "code",
   "execution_count": 176,
   "metadata": {},
   "outputs": [
    {
     "name": "stdout",
     "output_type": "stream",
     "text": [
      "<class 'pandas.core.frame.DataFrame'>\n",
      "Int64Index: 13494 entries, 8 to 4\n",
      "Data columns (total 6 columns):\n",
      " #   Column           Non-Null Count  Dtype  \n",
      "---  ------           --------------  -----  \n",
      " 0   presentacion     13494 non-null  object \n",
      " 1   nombreComercial  13494 non-null  object \n",
      " 2   latitud          13494 non-null  float64\n",
      " 3   longitud         13494 non-null  float64\n",
      " 4   Timestamp        13494 non-null  object \n",
      " 5   precio           13494 non-null  float64\n",
      "dtypes: float64(3), object(3)\n",
      "memory usage: 738.0+ KB\n"
     ]
    }
   ],
   "source": [
    "df_concat.info()\n",
    "#df_original.groupby(pd.Grouper(key='Date',freq='M')).sum()\n",
    "#df_concat.order\n",
    "df_dateinex = df_concat.set_index(pd.DatetimeIndex(df_concat['Timestamp']))\n",
    "GB=df_dateinex.groupby([pd.Grouper(freq='M'),'nombreComercial'])['precio'].mean()"
   ]
  },
  {
   "cell_type": "code",
   "execution_count": 178,
   "metadata": {},
   "outputs": [
    {
     "data": {
      "text/plain": [
       "Timestamp   nombreComercial                         \n",
       "2011-01-31  AURRERA BODEGA SUCURSAL CANTIL              6.750\n",
       "            AURRERA BODEGA SUCURSAL IZTAPALAPA          7.500\n",
       "            AURRERA BODEGA SUCURSAL LA VIGA             7.500\n",
       "            AURRERA BODEGA SUCURSAL MARIANO ESCOBEDO    7.500\n",
       "            AURRERA BODEGA SUCURSAL PLAZA CHURUBUSCO    7.500\n",
       "                                                        ...  \n",
       "2016-04-30  WALMART SUCURSAL LOMAS                      9.000\n",
       "            WALMART SUCURSAL PLAZA ORIENTE              8.875\n",
       "            WALMART SUCURSAL TEPEYAC                    8.900\n",
       "            WALMART SUCURSAL TLALPAN                    8.625\n",
       "            WALMART SUCURSAL VILLA COAPA                9.000\n",
       "Name: precio, Length: 4164, dtype: float64"
      ]
     },
     "execution_count": 178,
     "metadata": {},
     "output_type": "execute_result"
    }
   ],
   "source": [
    "GB"
   ]
  },
  {
   "cell_type": "code",
   "execution_count": 181,
   "metadata": {},
   "outputs": [
    {
     "data": {
      "image/png": "[encoded data removed]",
      "text/plain": [
       "<Figure size 432x288 with 1 Axes>"
      ]
     },
     "metadata": {
      "needs_background": "light"
     },
     "output_type": "display_data"
    }
   ],
   "source": [
    "import matplotlib.pyplot as plt\n",
    "j=0\n",
    "df_reset=GB.reset_index()\n",
    "for i in df_reset.groupby('nombreComercial'):\n",
    "    if(j>12):\n",
    "        break\n",
    "    else:\n",
    "        plt.plot(i[1].Timestamp,i[1].precio,'-o',label=i[0])\n",
    "    j=j+1\n",
    "\n",
    "plt.legend(loc='upper center',\n",
    "           bbox_to_anchor=(0.5, -0.2),\n",
    "           fancybox=True,\n",
    "           shadow=True,\n",
    "           ncol=4)\n",
    "plt.xlabel('date')\n",
    "plt.ylabel('price')\n",
    "plt.show()"
   ]
  },
  {
   "cell_type": "code",
   "execution_count": 186,
   "metadata": {},
   "outputs": [
    {
     "data": {
      "text/html": [
       "<div>\n",
       "<style scoped>\n",
       "    .dataframe tbody tr th:only-of-type {\n",
       "        vertical-align: middle;\n",
       "    }\n",
       "\n",
       "    .dataframe tbody tr th {\n",
       "        vertical-align: top;\n",
       "    }\n",
       "\n",
       "    .dataframe thead th {\n",
       "        text-align: right;\n",
       "    }\n",
       "</style>\n",
       "<table border=\"1\" class=\"dataframe\">\n",
       "  <thead>\n",
       "    <tr style=\"text-align: right;\">\n",
       "      <th></th>\n",
       "      <th>Timestamp</th>\n",
       "      <th>precio</th>\n",
       "      <th>inflacion</th>\n",
       "    </tr>\n",
       "  </thead>\n",
       "  <tbody>\n",
       "    <tr>\n",
       "      <th>0</th>\n",
       "      <td>2011-12-31</td>\n",
       "      <td>7.408070</td>\n",
       "      <td>NaN</td>\n",
       "    </tr>\n",
       "    <tr>\n",
       "      <th>1</th>\n",
       "      <td>2012-12-31</td>\n",
       "      <td>7.396306</td>\n",
       "      <td>-0.158793</td>\n",
       "    </tr>\n",
       "    <tr>\n",
       "      <th>2</th>\n",
       "      <td>2013-12-31</td>\n",
       "      <td>7.586890</td>\n",
       "      <td>2.576738</td>\n",
       "    </tr>\n",
       "    <tr>\n",
       "      <th>3</th>\n",
       "      <td>2014-12-31</td>\n",
       "      <td>7.922729</td>\n",
       "      <td>4.426573</td>\n",
       "    </tr>\n",
       "    <tr>\n",
       "      <th>4</th>\n",
       "      <td>2015-12-31</td>\n",
       "      <td>8.321799</td>\n",
       "      <td>5.037033</td>\n",
       "    </tr>\n",
       "    <tr>\n",
       "      <th>5</th>\n",
       "      <td>2016-12-31</td>\n",
       "      <td>8.556887</td>\n",
       "      <td>2.824959</td>\n",
       "    </tr>\n",
       "  </tbody>\n",
       "</table>\n",
       "</div>"
      ],
      "text/plain": [
       "   Timestamp    precio  inflacion\n",
       "0 2011-12-31  7.408070        NaN\n",
       "1 2012-12-31  7.396306  -0.158793\n",
       "2 2013-12-31  7.586890   2.576738\n",
       "3 2014-12-31  7.922729   4.426573\n",
       "4 2015-12-31  8.321799   5.037033\n",
       "5 2016-12-31  8.556887   2.824959"
      ]
     },
     "execution_count": 186,
     "metadata": {},
     "output_type": "execute_result"
    }
   ],
   "source": [
    "#[(IPC final - IPC inicial) / IPC inicial] x 100\n",
    "GB_inflacion=df_dateinex.groupby([pd.Grouper(freq='A')])['precio'].mean()\n",
    "GB_inflacion=GB_inflacion.reset_index()\n",
    "GB_inflacion['inflacion'] = ((GB_inflacion.precio - GB_inflacion.precio.shift(1))/ GB_inflacion.precio.shift(1))*100;\n",
    "GB_inflacion"
   ]
  },
  {
   "cell_type": "code",
   "execution_count": null,
   "metadata": {},
   "outputs": [],
   "source": []
  },
  {
   "cell_type": "code",
   "execution_count": null,
   "metadata": {},
   "outputs": [],
   "source": []
  }
 ],
 "metadata": {
  "kernelspec": {
   "display_name": "Python 3",
   "language": "python",
   "name": "python3"
  },
  "language_info": {
   "codemirror_mode": {
    "name": "ipython",
    "version": 3
   },
   "file_extension": ".py",
   "mimetype": "text/x-python",
   "name": "python",
   "nbconvert_exporter": "python",
   "pygments_lexer": "ipython3",
   "version": "3.8.3"
  }
 },
 "nbformat": 4,
 "nbformat_minor": 4
}
