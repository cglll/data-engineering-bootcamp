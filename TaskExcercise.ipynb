{
 "cells": [
  {
   "cell_type": "markdown",
   "metadata": {},
   "source": [
    "# Wizeline task for bootcamp"
   ]
  },
  {
   "cell_type": "markdown",
   "metadata": {},
   "source": [
    "### Carla Garcia"
   ]
  },
  {
   "cell_type": "markdown",
   "metadata": {},
   "source": [
    "# Import libraries"
   ]
  },
  {
   "cell_type": "code",
   "execution_count": 14,
   "metadata": {},
   "outputs": [],
   "source": [
    "import pandas as pd"
   ]
  },
  {
   "cell_type": "markdown",
   "metadata": {},
   "source": [
    "# Load data"
   ]
  },
  {
   "cell_type": "code",
   "execution_count": 15,
   "metadata": {},
   "outputs": [],
   "source": [
    "dataset=pd.read_csv('.\\data\\sample.csv')"
   ]
  },
  {
   "cell_type": "code",
   "execution_count": 16,
   "metadata": {},
   "outputs": [],
   "source": [
    "#Chunk for the big file\n",
    "#dataset_profeco = pd.read_csv('.\\profeco.zip', chunksize=1000000)\n",
    "\n",
    "def read_chunk(columns):\n",
    "    dataset_profeco = pd.read_csv('.\\profeco.zip', chunksize=10000000)\n",
    "    chunk_list = []  # append each chunk df here \n",
    "    i=0\n",
    "    # Each chunk is in df format\n",
    "    for chunk in dataset_profeco:  \n",
    "        # perform data filtering \n",
    "        chunk_filter = chunk[columns]\n",
    "        print(i)\n",
    "        # Once the data filtering is done, append the chunk to list\n",
    "        chunk_list.append(chunk_filter)\n",
    "        i=i+1\n",
    "    # concat the list into dataframe \n",
    "    df_concat = pd.concat(chunk_list)\n",
    "    return df_concat"
   ]
  },
  {
   "cell_type": "code",
   "execution_count": 17,
   "metadata": {},
   "outputs": [
    {
     "name": "stdout",
     "output_type": "stream",
     "text": [
      "0\n",
      "1\n",
      "2\n",
      "3\n"
     ]
    },
    {
     "name": "stderr",
     "output_type": "stream",
     "text": [
      "C:\\ProgramData\\Anaconda3\\lib\\site-packages\\IPython\\core\\interactiveshell.py:3263: DtypeWarning: Columns (5,13,14) have mixed types.Specify dtype option on import or set low_memory=False.\n",
      "  if (await self.run_code(code, result,  async_=asy)):\n"
     ]
    },
    {
     "name": "stdout",
     "output_type": "stream",
     "text": [
      "4\n",
      "5\n",
      "6\n"
     ]
    }
   ],
   "source": [
    "#Extraction\n",
    "COLUMNS_Q1=['cadenaComercial']\n",
    "dataset_Q1=dataset['cadenaComercial']\n",
    "dataset_Q1=read_chunk(COLUMNS_Q1)\n",
    "#Transformation\n",
    "count_cadena_comercial_Q1=dataset_Q1.nunique()\n",
    "del dataset_Q1"
   ]
  },
  {
   "cell_type": "code",
   "execution_count": 18,
   "metadata": {},
   "outputs": [
    {
     "name": "stdout",
     "output_type": "stream",
     "text": [
      "0\n",
      "1\n",
      "2\n",
      "3\n",
      "4\n",
      "5\n",
      "6\n"
     ]
    }
   ],
   "source": [
    "#Extraction\n",
    "COLUMNS_Q2=['estado','producto']\n",
    "#dataset_Q2=dataset[COLUMNS_Q2]\n",
    "dataset_Q2=read_chunk(COLUMNS_Q2)\n",
    "#Transformation\n",
    "top_10_products=dataset_Q2.groupby(COLUMNS_Q2,group_keys=False)['producto'].count()\n",
    "top_10_products_filter=top_10_products.groupby(\"estado\", group_keys=False).nlargest(10)\n"
   ]
  },
  {
   "cell_type": "code",
   "execution_count": 21,
   "metadata": {},
   "outputs": [
    {
     "data": {
      "text/plain": [
       "estado\n",
       "AGUASCALIENTES                     10\n",
       "BAJA CALIFORNIA                    10\n",
       "BAJA CALIFORNIA SUR                10\n",
       "CAMPECHE                           10\n",
       "CHIAPAS                            10\n",
       "CHIHUAHUA                          10\n",
       "COAHUILA DE ZARAGOZA               10\n",
       "COLIMA                             10\n",
       "DISTRITO FEDERAL                   10\n",
       "DURANGO                            10\n",
       "GUANAJUATO                         10\n",
       "GUERRERO                           10\n",
       "HIDALGO                            10\n",
       "JALISCO                            10\n",
       "MICHOACÁN DE OCAMPO                10\n",
       "MORELOS                            10\n",
       "MÉXICO                             10\n",
       "NAYARIT                            10\n",
       "NUEVO LEÓN                         10\n",
       "OAXACA                             10\n",
       "PUEBLA                             10\n",
       "QUERÉTARO                          10\n",
       "QUINTANA ROO                       10\n",
       "SAN LUIS POTOSÍ                    10\n",
       "SINALOA                            10\n",
       "SONORA                             10\n",
       "TABASCO                            10\n",
       "TAMAULIPAS                         10\n",
       "TLAXCALA                           10\n",
       "VERACRUZ DE IGNACIO DE LA LLAVE    10\n",
       "YUCATÁN                            10\n",
       "ZACATECAS                          10\n",
       "estado                              1\n",
       "Name: producto, dtype: int64"
      ]
     },
     "execution_count": 21,
     "metadata": {},
     "output_type": "execute_result"
    }
   ],
   "source": [
    "#top_10_products=(dataset_Q2.groupby(COLUMNS_Q2,group_keys=False)[['producto']].count()).groupby('estado')\n",
    "#top_10_products=dataset_Q2.groupby(COLUMNS_Q2,group_keys=False)['producto'].count().nlargest(10)\n",
    "#top_10_products_filter=top_10_products.groupby(\"estado\").nlargest(10)\n",
    "#top_10_products.head(10)\n",
    "#dataset_Q2.groupby('estado')['producto'].sum().nlargest(2)\n",
    "df=dataset_Q2\n",
    "#df.groupby('estado').apply(lambda x : x.sort_values(by = 'producto', ascending = False).head(10).reset_index(drop = True))\n",
    "df=df.groupby('estado')['producto'].value_counts().groupby(level=0).head(10).sort_values(ascending=False).to_frame('counts').reset_index()\n",
    "df.groupby(['estado','producto')['producto'].count()"
   ]
  },
  {
   "cell_type": "code",
   "execution_count": 24,
   "metadata": {},
   "outputs": [
    {
     "data": {
      "text/plain": [
       "estado          producto               \n",
       "AGUASCALIENTES  CHILES EN LATA             1\n",
       "                DESODORANTE                1\n",
       "                DETERGENTE P/ROPA          1\n",
       "                FUD                        1\n",
       "                JABON DE TOCADOR           1\n",
       "                                          ..\n",
       "ZACATECAS       LECHE ULTRAPASTEURIZADA    1\n",
       "                MAYONESA                   1\n",
       "                REFRESCO                   1\n",
       "                SHAMPOO                    1\n",
       "estado          producto                   1\n",
       "Name: producto, Length: 321, dtype: int64"
      ]
     },
     "execution_count": 24,
     "metadata": {},
     "output_type": "execute_result"
    }
   ],
   "source": [
    "df.groupby(['estado','producto'])['producto'].count()"
   ]
  },
  {
   "cell_type": "code",
   "execution_count": 36,
   "metadata": {},
   "outputs": [
    {
     "ename": "TypeError",
     "evalue": "rename_axis() takes from 1 to 2 positional arguments but 3 were given",
     "output_type": "error",
     "traceback": [
      "\u001b[1;31m---------------------------------------------------------------------------\u001b[0m",
      "\u001b[1;31mTypeError\u001b[0m                                 Traceback (most recent call last)",
      "\u001b[1;32m<ipython-input-36-02bd301cdfea>\u001b[0m in \u001b[0;36m<module>\u001b[1;34m\u001b[0m\n\u001b[1;32m----> 1\u001b[1;33m \u001b[0mtop_10_products\u001b[0m\u001b[1;33m=\u001b[0m\u001b[0mdataset_Q2\u001b[0m\u001b[1;33m.\u001b[0m\u001b[0mgroupby\u001b[0m\u001b[1;33m(\u001b[0m\u001b[0mCOLUMNS_Q2\u001b[0m\u001b[1;33m,\u001b[0m\u001b[0mgroup_keys\u001b[0m\u001b[1;33m=\u001b[0m\u001b[1;32mFalse\u001b[0m\u001b[1;33m)\u001b[0m\u001b[1;33m[\u001b[0m\u001b[1;34m'producto'\u001b[0m\u001b[1;33m]\u001b[0m\u001b[1;33m.\u001b[0m\u001b[0mcount\u001b[0m\u001b[1;33m(\u001b[0m\u001b[1;33m)\u001b[0m\u001b[1;33m.\u001b[0m\u001b[0mrename_axis\u001b[0m\u001b[1;33m(\u001b[0m\u001b[1;34m'producto'\u001b[0m\u001b[1;33m,\u001b[0m \u001b[1;34m'producto_nombre'\u001b[0m\u001b[1;33m)\u001b[0m\u001b[1;33m.\u001b[0m\u001b[0mreset_index\u001b[0m\u001b[1;33m(\u001b[0m\u001b[1;33m)\u001b[0m\u001b[1;33m\u001b[0m\u001b[1;33m\u001b[0m\u001b[0m\n\u001b[0m\u001b[0;32m      2\u001b[0m \u001b[0msorted\u001b[0m \u001b[1;33m=\u001b[0m \u001b[0mpd\u001b[0m\u001b[1;33m.\u001b[0m\u001b[0mDataFrame\u001b[0m\u001b[1;33m(\u001b[0m\u001b[1;33m)\u001b[0m\u001b[1;33m\u001b[0m\u001b[1;33m\u001b[0m\u001b[0m\n\u001b[0;32m      3\u001b[0m \u001b[0mtop_10_products\u001b[0m\u001b[1;33m\u001b[0m\u001b[1;33m\u001b[0m\u001b[0m\n",
      "\u001b[1;32mC:\\ProgramData\\Anaconda3\\lib\\site-packages\\pandas\\util\\_decorators.py\u001b[0m in \u001b[0;36mwrapper\u001b[1;34m(*args, **kwargs)\u001b[0m\n\u001b[0;32m    225\u001b[0m         \u001b[1;33m@\u001b[0m\u001b[0mwraps\u001b[0m\u001b[1;33m(\u001b[0m\u001b[0mfunc\u001b[0m\u001b[1;33m)\u001b[0m\u001b[1;33m\u001b[0m\u001b[1;33m\u001b[0m\u001b[0m\n\u001b[0;32m    226\u001b[0m         \u001b[1;32mdef\u001b[0m \u001b[0mwrapper\u001b[0m\u001b[1;33m(\u001b[0m\u001b[1;33m*\u001b[0m\u001b[0margs\u001b[0m\u001b[1;33m,\u001b[0m \u001b[1;33m**\u001b[0m\u001b[0mkwargs\u001b[0m\u001b[1;33m)\u001b[0m \u001b[1;33m->\u001b[0m \u001b[0mCallable\u001b[0m\u001b[1;33m[\u001b[0m\u001b[1;33m...\u001b[0m\u001b[1;33m,\u001b[0m \u001b[0mAny\u001b[0m\u001b[1;33m]\u001b[0m\u001b[1;33m:\u001b[0m\u001b[1;33m\u001b[0m\u001b[1;33m\u001b[0m\u001b[0m\n\u001b[1;32m--> 227\u001b[1;33m             \u001b[1;32mreturn\u001b[0m \u001b[0mfunc\u001b[0m\u001b[1;33m(\u001b[0m\u001b[1;33m*\u001b[0m\u001b[0margs\u001b[0m\u001b[1;33m,\u001b[0m \u001b[1;33m**\u001b[0m\u001b[0mkwargs\u001b[0m\u001b[1;33m)\u001b[0m\u001b[1;33m\u001b[0m\u001b[1;33m\u001b[0m\u001b[0m\n\u001b[0m\u001b[0;32m    228\u001b[0m \u001b[1;33m\u001b[0m\u001b[0m\n\u001b[0;32m    229\u001b[0m         \u001b[0mkind\u001b[0m \u001b[1;33m=\u001b[0m \u001b[0minspect\u001b[0m\u001b[1;33m.\u001b[0m\u001b[0mParameter\u001b[0m\u001b[1;33m.\u001b[0m\u001b[0mPOSITIONAL_OR_KEYWORD\u001b[0m\u001b[1;33m\u001b[0m\u001b[1;33m\u001b[0m\u001b[0m\n",
      "\u001b[1;31mTypeError\u001b[0m: rename_axis() takes from 1 to 2 positional arguments but 3 were given"
     ]
    }
   ],
   "source": [
    "top_10_products=dataset_Q2.groupby(COLUMNS_Q2,group_keys=False)['producto'].count().rename_axis('producto', 'producto_nombre').reset_index()\n",
    "sorted = pd.DataFrame()\n",
    "top_10_products"
   ]
  },
  {
   "cell_type": "code",
   "execution_count": null,
   "metadata": {},
   "outputs": [],
   "source": [
    "for estado in df['estado'].unique():\n",
    "    sorted_df.append(df[df['estado']==estado].nlargest(10, columns = 'valores'))"
   ]
  },
  {
   "cell_type": "code",
   "execution_count": null,
   "metadata": {},
   "outputs": [],
   "source": [
    "df1 = dataset_Q2.groupby([\"estado\"])\n",
    "df2= df1.apply(lambda x: x.sort_values([\"lifeExp\"])]\n",
    "df3=df2.reset_index(drop=True\n",
    "df3.head()\n",
    "g = gapminder_2007.groupby([\"continent\"]).apply(lambda x: x.sort_values([\"lifeExp\"], ascending = False)).reset_index(drop=True)\n",
    "\n",
    "                                       \n"
   ]
  },
  {
   "cell_type": "code",
   "execution_count": 38,
   "metadata": {
    "scrolled": true
   },
   "outputs": [
    {
     "ename": "SpecificationError",
     "evalue": "nested renamer is not supported",
     "output_type": "error",
     "traceback": [
      "\u001b[1;31m---------------------------------------------------------------------------\u001b[0m",
      "\u001b[1;31mSpecificationError\u001b[0m                        Traceback (most recent call last)",
      "\u001b[1;32m<ipython-input-38-2119cd455b06>\u001b[0m in \u001b[0;36m<module>\u001b[1;34m\u001b[0m\n\u001b[0;32m      1\u001b[0m \u001b[1;31m#top_10_products=dataset_Q2.groupby(COLUMNS_Q2,group_keys=False)['producto'].count().Sort_values((by column), ascending=[False, True]) [:10].index.tolist()\u001b[0m\u001b[1;33m\u001b[0m\u001b[1;33m\u001b[0m\u001b[1;33m\u001b[0m\u001b[0m\n\u001b[1;32m----> 2\u001b[1;33m \u001b[0mtop_10_products\u001b[0m\u001b[1;33m=\u001b[0m\u001b[0mdataset_Q2\u001b[0m\u001b[1;33m.\u001b[0m\u001b[0mgroupby\u001b[0m\u001b[1;33m(\u001b[0m\u001b[1;33m[\u001b[0m\u001b[1;34m'estado'\u001b[0m\u001b[1;33m,\u001b[0m\u001b[1;34m'producto'\u001b[0m\u001b[1;33m]\u001b[0m\u001b[1;33m)\u001b[0m\u001b[1;33m.\u001b[0m\u001b[0magg\u001b[0m\u001b[1;33m(\u001b[0m\u001b[1;33m{\u001b[0m\u001b[1;34m'ventas'\u001b[0m\u001b[1;33m:\u001b[0m\u001b[1;34m'sum'\u001b[0m\u001b[1;33m}\u001b[0m\u001b[1;33m)\u001b[0m\u001b[1;33m\u001b[0m\u001b[1;33m\u001b[0m\u001b[0m\n\u001b[0m\u001b[0;32m      3\u001b[0m \u001b[1;31m#.sort_values(['estado','ventas'],ascending=(True,False)).groupby('estado').head(10)\u001b[0m\u001b[1;33m\u001b[0m\u001b[1;33m\u001b[0m\u001b[1;33m\u001b[0m\u001b[0m\n",
      "\u001b[1;32mC:\\ProgramData\\Anaconda3\\lib\\site-packages\\pandas\\core\\groupby\\generic.py\u001b[0m in \u001b[0;36maggregate\u001b[1;34m(self, func, *args, **kwargs)\u001b[0m\n\u001b[0;32m    926\u001b[0m         \u001b[0mfunc\u001b[0m \u001b[1;33m=\u001b[0m \u001b[0m_maybe_mangle_lambdas\u001b[0m\u001b[1;33m(\u001b[0m\u001b[0mfunc\u001b[0m\u001b[1;33m)\u001b[0m\u001b[1;33m\u001b[0m\u001b[1;33m\u001b[0m\u001b[0m\n\u001b[0;32m    927\u001b[0m \u001b[1;33m\u001b[0m\u001b[0m\n\u001b[1;32m--> 928\u001b[1;33m         \u001b[0mresult\u001b[0m\u001b[1;33m,\u001b[0m \u001b[0mhow\u001b[0m \u001b[1;33m=\u001b[0m \u001b[0mself\u001b[0m\u001b[1;33m.\u001b[0m\u001b[0m_aggregate\u001b[0m\u001b[1;33m(\u001b[0m\u001b[0mfunc\u001b[0m\u001b[1;33m,\u001b[0m \u001b[1;33m*\u001b[0m\u001b[0margs\u001b[0m\u001b[1;33m,\u001b[0m \u001b[1;33m**\u001b[0m\u001b[0mkwargs\u001b[0m\u001b[1;33m)\u001b[0m\u001b[1;33m\u001b[0m\u001b[1;33m\u001b[0m\u001b[0m\n\u001b[0m\u001b[0;32m    929\u001b[0m         \u001b[1;32mif\u001b[0m \u001b[0mhow\u001b[0m \u001b[1;32mis\u001b[0m \u001b[1;32mNone\u001b[0m\u001b[1;33m:\u001b[0m\u001b[1;33m\u001b[0m\u001b[1;33m\u001b[0m\u001b[0m\n\u001b[0;32m    930\u001b[0m             \u001b[1;32mreturn\u001b[0m \u001b[0mresult\u001b[0m\u001b[1;33m\u001b[0m\u001b[1;33m\u001b[0m\u001b[0m\n",
      "\u001b[1;32mC:\\ProgramData\\Anaconda3\\lib\\site-packages\\pandas\\core\\base.py\u001b[0m in \u001b[0;36m_aggregate\u001b[1;34m(self, arg, *args, **kwargs)\u001b[0m\n\u001b[0;32m    355\u001b[0m                     \u001b[0mobj\u001b[0m\u001b[1;33m.\u001b[0m\u001b[0mcolumns\u001b[0m\u001b[1;33m.\u001b[0m\u001b[0mintersection\u001b[0m\u001b[1;33m(\u001b[0m\u001b[0mkeys\u001b[0m\u001b[1;33m)\u001b[0m\u001b[1;33m\u001b[0m\u001b[1;33m\u001b[0m\u001b[0m\n\u001b[0;32m    356\u001b[0m                 ) != len(keys):\n\u001b[1;32m--> 357\u001b[1;33m                     \u001b[1;32mraise\u001b[0m \u001b[0mSpecificationError\u001b[0m\u001b[1;33m(\u001b[0m\u001b[1;34m\"nested renamer is not supported\"\u001b[0m\u001b[1;33m)\u001b[0m\u001b[1;33m\u001b[0m\u001b[1;33m\u001b[0m\u001b[0m\n\u001b[0m\u001b[0;32m    358\u001b[0m \u001b[1;33m\u001b[0m\u001b[0m\n\u001b[0;32m    359\u001b[0m             \u001b[1;32mfrom\u001b[0m \u001b[0mpandas\u001b[0m\u001b[1;33m.\u001b[0m\u001b[0mcore\u001b[0m\u001b[1;33m.\u001b[0m\u001b[0mreshape\u001b[0m\u001b[1;33m.\u001b[0m\u001b[0mconcat\u001b[0m \u001b[1;32mimport\u001b[0m \u001b[0mconcat\u001b[0m\u001b[1;33m\u001b[0m\u001b[1;33m\u001b[0m\u001b[0m\n",
      "\u001b[1;31mSpecificationError\u001b[0m: nested renamer is not supported"
     ]
    }
   ],
   "source": [
    "#top_10_products=dataset_Q2.groupby(COLUMNS_Q2,group_keys=False)['producto'].count().Sort_values((by column), ascending=[False, True]) [:10].index.tolist()\n",
    "top_10_products=dataset_Q2.groupby(['estado','producto']).agg({'ventas':'sum'})\n",
    "#.sort_values(['estado','ventas'],ascending=(True,False)).groupby('estado').head(10)"
   ]
  },
  {
   "cell_type": "code",
   "execution_count": null,
   "metadata": {},
   "outputs": [
    {
     "name": "stdout",
     "output_type": "stream",
     "text": [
      "0\n",
      "1\n",
      "2\n",
      "3\n"
     ]
    }
   ],
   "source": [
    "#Extraction\n",
    "COLUMNS_Q3=['cadenaComercial','producto']\n",
    "dataset_Q3=dataset[COLUMNS_Q3]\n",
    "dataset_Q3=read_chunk(COLUMNS_Q3)\n",
    "#Transformation\n",
    "cadena_per_product=dataset_Q3.groupby(['cadenaComercial']).producto.count()\n",
    "cadena_most_monitoring_prod=cadena_per_product.nlargest(1).reset_index()\n",
    "cadena_most_monitoring_prod['cadenaComercial'][0:]\n",
    "del dataset_Q3"
   ]
  },
  {
   "cell_type": "markdown",
   "metadata": {},
   "source": [
    "# Q1 How many commercial chains are monitored, and therefore, included in this database?\n"
   ]
  },
  {
   "cell_type": "code",
   "execution_count": 60,
   "metadata": {},
   "outputs": [
    {
     "name": "stdout",
     "output_type": "stream",
     "text": [
      "There are 705 commercial chains which products are  monitored\n"
     ]
    }
   ],
   "source": [
    "print(f\"There are {count_cadena_comercial_Q1[0]} commercial chains which products are  monitored\")"
   ]
  },
  {
   "cell_type": "code",
   "execution_count": 41,
   "metadata": {},
   "outputs": [
    {
     "data": {
      "text/plain": [
       "estado            producto                      \n",
       "DISTRITO FEDERAL  ACEITE                            11\n",
       "                  ACEITE DE OLIVA                    6\n",
       "                  ACEITUNA                           3\n",
       "                  ACEITUNA. GORDAL                   1\n",
       "                  ACEITUNA. RELLENA CON PIMIENTO     1\n",
       "                                                    ..\n",
       "MÉXICO            ZESTRIL                            1\n",
       "                  ZOVIRAX                            2\n",
       "                  ZUCARITAS                          2\n",
       "                  ZWAN                               8\n",
       "                  ZWAN. PREMIUM                      4\n",
       "Name: producto, Length: 546, dtype: int64"
      ]
     },
     "execution_count": 41,
     "metadata": {},
     "output_type": "execute_result"
    }
   ],
   "source": [
    "\n",
    "top_10_products\n"
   ]
  },
  {
   "cell_type": "markdown",
   "metadata": {},
   "source": [
    "#  Q2 What are the top 10 monitored products by State?"
   ]
  },
  {
   "cell_type": "code",
   "execution_count": 40,
   "metadata": {},
   "outputs": [
    {
     "name": "stdout",
     "output_type": "stream",
     "text": [
      "Top 10 products by state can be reviewed in .\\top_10_per_state.csv\n"
     ]
    }
   ],
   "source": [
    "path=r'.\\top_10_per_state.csv'\n",
    "top_10_products_filter.to_csv('example.csv')\n",
    "print(f\"Top 10 products by state can be reviewed in {path}\")"
   ]
  },
  {
   "cell_type": "markdown",
   "metadata": {},
   "source": [
    "# Q3 Which is the commercial chain with the highest number of monitored products?"
   ]
  },
  {
   "cell_type": "code",
   "execution_count": 34,
   "metadata": {},
   "outputs": [
    {
     "ename": "NameError",
     "evalue": "name 'cadena_most_monitoring_prod' is not defined",
     "output_type": "error",
     "traceback": [
      "\u001b[1;31m---------------------------------------------------------------------------\u001b[0m",
      "\u001b[1;31mNameError\u001b[0m                                 Traceback (most recent call last)",
      "\u001b[1;32m<ipython-input-34-70bdffd438cd>\u001b[0m in \u001b[0;36m<module>\u001b[1;34m\u001b[0m\n\u001b[1;32m----> 1\u001b[1;33m \u001b[0mprint\u001b[0m\u001b[1;33m(\u001b[0m\u001b[1;34mf\" Comercial chain with highest number of monitored products is: {cadena_most_monitoring_prod['cadenaComercial'].values[0]}\"\u001b[0m\u001b[1;33m)\u001b[0m\u001b[1;33m\u001b[0m\u001b[1;33m\u001b[0m\u001b[0m\n\u001b[0m",
      "\u001b[1;31mNameError\u001b[0m: name 'cadena_most_monitoring_prod' is not defined"
     ]
    }
   ],
   "source": [
    "print(f\" Comercial chain with highest number of monitored products is: {cadena_most_monitoring_prod['cadenaComercial'].values[0]}\")"
   ]
  },
  {
   "cell_type": "markdown",
   "metadata": {},
   "source": [
    "# Q4 Use the data to find an interesting fact"
   ]
  },
  {
   "cell_type": "markdown",
   "metadata": {},
   "source": [
    "# Q5 What are the lessons learned from this excersice?"
   ]
  },
  {
   "cell_type": "markdown",
   "metadata": {},
   "source": [
    "# Q6 Can you identify other ways to approach this problem? Explain."
   ]
  },
  {
   "cell_type": "code",
   "execution_count": null,
   "metadata": {},
   "outputs": [],
   "source": []
  }
 ],
 "metadata": {
  "kernelspec": {
   "display_name": "Python 3",
   "language": "python",
   "name": "python3"
  },
  "language_info": {
   "codemirror_mode": {
    "name": "ipython",
    "version": 3
   },
   "file_extension": ".py",
   "mimetype": "text/x-python",
   "name": "python",
   "nbconvert_exporter": "python",
   "pygments_lexer": "ipython3",
   "version": "3.8.3"
  }
 },
 "nbformat": 4,
 "nbformat_minor": 4
}
