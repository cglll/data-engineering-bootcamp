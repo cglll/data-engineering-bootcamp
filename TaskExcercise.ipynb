{
 "cells": [
  {
   "cell_type": "markdown",
   "metadata": {},
   "source": [
    "# Wizeline task for bootcamp"
   ]
  },
  {
   "cell_type": "markdown",
   "metadata": {},
   "source": [
    "### Carla Garcia"
   ]
  },
  {
   "cell_type": "markdown",
   "metadata": {},
   "source": [
    "# Import libraries"
   ]
  },
  {
   "cell_type": "code",
   "execution_count": 2,
   "metadata": {},
   "outputs": [],
   "source": [
    "import pandas as pd"
   ]
  },
  {
   "cell_type": "markdown",
   "metadata": {},
   "source": [
    "# Load data"
   ]
  },
  {
   "cell_type": "code",
   "execution_count": 4,
   "metadata": {},
   "outputs": [],
   "source": [
    "dataset=pd.read_csv('.\\data\\sample.csv')"
   ]
  },
  {
   "cell_type": "code",
   "execution_count": 13,
   "metadata": {},
   "outputs": [],
   "source": [
    "#Extraction\n",
    "COLUMNS_Q1=['cadenaComercial']\n",
    "dataset_Q1=dataset['cadenaComercial']\n",
    "#Transformation\n",
    "count_cadena_comercial_Q1=dataset_Q1.nunique()"
   ]
  },
  {
   "cell_type": "code",
   "execution_count": 79,
   "metadata": {},
   "outputs": [],
   "source": [
    "#Extraction\n",
    "COLUMNS_Q2=['estado','producto']\n",
    "dataset_Q2=dataset[COLUMNS_Q2]\n",
    "#Transformation\n",
    "top_10=dataset_Q2.groupby('estado').head(10).reset_index(drop=True)\n",
    "top_10=dataset_Q2.sort_values('producto',ascending = False).groupby('estado').head(10)\n",
    "top_10_products=dataset_Q2.groupby(COLUMNS_Q2)['producto'].count()\n",
    "top_10_products_filter=top_10_products.groupby(\"estado\", group_keys=False).nlargest(10)"
   ]
  },
  {
   "cell_type": "code",
   "execution_count": 111,
   "metadata": {},
   "outputs": [
    {
     "data": {
      "text/plain": [
       "0    COMERCIAL MEXICANA\n",
       "Name: cadenaComercial, dtype: object"
      ]
     },
     "execution_count": 111,
     "metadata": {},
     "output_type": "execute_result"
    }
   ],
   "source": [
    "#Extraction\n",
    "COLUMNS_Q3=['cadenaComercial','producto']\n",
    "dataset_Q3=dataset[COLUMNS_Q3]\n",
    "#Transformation\n",
    "cadena_per_product=dataset_Q3.groupby(['cadenaComercial']).producto.count()\n",
    "cadena_most_monitoring_prod=cadena_per_product.nlargest(1).reset_index()\n",
    "cadena_most_monitoring_prod['cadenaComercial'][0:]"
   ]
  },
  {
   "cell_type": "markdown",
   "metadata": {},
   "source": [
    "# Q1 How many commercial chains are monitored, and therefore, included in this database?\n"
   ]
  },
  {
   "cell_type": "code",
   "execution_count": 80,
   "metadata": {},
   "outputs": [
    {
     "name": "stdout",
     "output_type": "stream",
     "text": [
      "There are 4 commercial chains which products are  monitored\n"
     ]
    }
   ],
   "source": [
    "print(f\"There are {count_cadena_comercial_Q1} commercial chains which products are  monitored\")"
   ]
  },
  {
   "cell_type": "markdown",
   "metadata": {},
   "source": [
    "#  Q2 What are the top 10 monitored products by State?"
   ]
  },
  {
   "cell_type": "code",
   "execution_count": 82,
   "metadata": {},
   "outputs": [
    {
     "name": "stdout",
     "output_type": "stream",
     "text": [
      "Top 10 products by state can be reviewed in .\\top_10_per_state.csv\n"
     ]
    }
   ],
   "source": [
    "path=r'.\\top_10_per_state.csv'\n",
    "top_10_products_filter.to_csv(path)\n",
    "print(f\"Top 10 products by state can be reviewed in {path}\")"
   ]
  },
  {
   "cell_type": "markdown",
   "metadata": {},
   "source": [
    "# Q3 Which is the commercial chain with the highest number of monitored products?"
   ]
  },
  {
   "cell_type": "code",
   "execution_count": 117,
   "metadata": {},
   "outputs": [
    {
     "name": "stdout",
     "output_type": "stream",
     "text": [
      " Comercial chain with highest number of monitored products is: COMERCIAL MEXICANA\n"
     ]
    }
   ],
   "source": [
    "print(f\" Comercial chain with highest number of monitored products is: {cadena_most_monitoring_prod['cadenaComercial'].values[0]}\")"
   ]
  },
  {
   "cell_type": "markdown",
   "metadata": {},
   "source": [
    "# Q4 Use the data to find an interesting fact"
   ]
  },
  {
   "cell_type": "markdown",
   "metadata": {},
   "source": [
    "# Q5 What are the lessons learned from this excersice?"
   ]
  },
  {
   "cell_type": "markdown",
   "metadata": {},
   "source": [
    "# Q6 Can you identify other ways to approach this problem? Explain."
   ]
  },
  {
   "cell_type": "code",
   "execution_count": null,
   "metadata": {},
   "outputs": [],
   "source": []
  }
 ],
 "metadata": {
  "kernelspec": {
   "display_name": "Python 3",
   "language": "python",
   "name": "python3"
  },
  "language_info": {
   "codemirror_mode": {
    "name": "ipython",
    "version": 3
   },
   "file_extension": ".py",
   "mimetype": "text/x-python",
   "name": "python",
   "nbconvert_exporter": "python",
   "pygments_lexer": "ipython3",
   "version": "3.8.3"
  }
 },
 "nbformat": 4,
 "nbformat_minor": 4
}
