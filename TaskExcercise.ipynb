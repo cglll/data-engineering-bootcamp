{
 "cells": [
  {
   "cell_type": "markdown",
   "metadata": {},
   "source": [
    "# Wizeline task for bootcamp"
   ]
  },
  {
   "cell_type": "markdown",
   "metadata": {},
   "source": [
    "### Carla Garcia"
   ]
  },
  {
   "cell_type": "markdown",
   "metadata": {},
   "source": [
    "# Import libraries"
   ]
  },
  {
   "cell_type": "code",
   "execution_count": 1,
   "metadata": {},
   "outputs": [],
   "source": [
    "import pandas as pd"
   ]
  },
  {
   "cell_type": "markdown",
   "metadata": {},
   "source": [
    "# Load data"
   ]
  },
  {
   "cell_type": "code",
   "execution_count": 9,
   "metadata": {},
   "outputs": [],
   "source": [
    "dataset=pd.read_csv('.\\data\\sample.csv')"
   ]
  },
  {
   "cell_type": "code",
   "execution_count": 97,
   "metadata": {},
   "outputs": [],
   "source": [
    "#Chunk big file\n",
    "#dataset_profeco = pd.read_csv('.\\profeco.zip', chunksize=1000000)\n",
    "\n",
    "def read_chunk(columns):\n",
    "    dataset_profeco = pd.read_csv('.\\profeco.zip', chunksize=10000000)\n",
    "    chunk_list = []  # append each chunk df here \n",
    "    i=0\n",
    "    # Each chunk is in df format\n",
    "    for chunk in dataset_profeco:  \n",
    "        # perform data filtering \n",
    "        chunk_filter = chunk[columns]\n",
    "        print(i)\n",
    "        # Once the data filtering is done, append the chunk to list\n",
    "        chunk_list.append(chunk_filter)\n",
    "        i=i+1\n",
    "    # concat the list into dataframe \n",
    "    df_concat = pd.concat(chunk_list)\n",
    "    return df_concat"
   ]
  },
  {
   "cell_type": "markdown",
   "metadata": {},
   "source": [
    "## Q1 Process"
   ]
  },
  {
   "cell_type": "code",
   "execution_count": 3,
   "metadata": {},
   "outputs": [
    {
     "ename": "NameError",
     "evalue": "name 'dataset' is not defined",
     "output_type": "error",
     "traceback": [
      "\u001b[1;31m---------------------------------------------------------------------------\u001b[0m",
      "\u001b[1;31mNameError\u001b[0m                                 Traceback (most recent call last)",
      "\u001b[1;32m<ipython-input-3-3e63627df4f8>\u001b[0m in \u001b[0;36m<module>\u001b[1;34m\u001b[0m\n\u001b[0;32m      1\u001b[0m \u001b[1;31m#Extraction\u001b[0m\u001b[1;33m\u001b[0m\u001b[1;33m\u001b[0m\u001b[1;33m\u001b[0m\u001b[0m\n\u001b[0;32m      2\u001b[0m \u001b[0mCOLUMNS_Q1\u001b[0m\u001b[1;33m=\u001b[0m\u001b[1;33m[\u001b[0m\u001b[1;34m'cadenaComercial'\u001b[0m\u001b[1;33m]\u001b[0m\u001b[1;33m\u001b[0m\u001b[1;33m\u001b[0m\u001b[0m\n\u001b[1;32m----> 3\u001b[1;33m \u001b[0mdataset_Q1\u001b[0m\u001b[1;33m=\u001b[0m\u001b[0mdataset\u001b[0m\u001b[1;33m[\u001b[0m\u001b[1;34m'cadenaComercial'\u001b[0m\u001b[1;33m]\u001b[0m\u001b[1;33m\u001b[0m\u001b[1;33m\u001b[0m\u001b[0m\n\u001b[0m\u001b[0;32m      4\u001b[0m \u001b[0mdataset_Q1\u001b[0m\u001b[1;33m=\u001b[0m\u001b[0mread_chunk\u001b[0m\u001b[1;33m(\u001b[0m\u001b[0mCOLUMNS_Q1\u001b[0m\u001b[1;33m)\u001b[0m\u001b[1;33m\u001b[0m\u001b[1;33m\u001b[0m\u001b[0m\n\u001b[0;32m      5\u001b[0m \u001b[1;31m#Transformation\u001b[0m\u001b[1;33m\u001b[0m\u001b[1;33m\u001b[0m\u001b[1;33m\u001b[0m\u001b[0m\n",
      "\u001b[1;31mNameError\u001b[0m: name 'dataset' is not defined"
     ]
    }
   ],
   "source": [
    "#Extraction\n",
    "COLUMNS_Q1=['cadenaComercial']\n",
    "dataset_Q1=dataset['cadenaComercial']\n",
    "dataset_Q1=read_chunk(COLUMNS_Q1)\n",
    "#Transformation\n",
    "count_cadena_comercial_Q1=dataset_Q1.nunique()\n",
    "del dataset_Q1"
   ]
  },
  {
   "cell_type": "markdown",
   "metadata": {},
   "source": [
    "## Q2 Process"
   ]
  },
  {
   "cell_type": "code",
   "execution_count": 4,
   "metadata": {},
   "outputs": [
    {
     "name": "stdout",
     "output_type": "stream",
     "text": [
      "0\n",
      "1\n",
      "2\n",
      "3\n"
     ]
    },
    {
     "name": "stderr",
     "output_type": "stream",
     "text": [
      "C:\\ProgramData\\Anaconda3\\lib\\site-packages\\IPython\\core\\interactiveshell.py:3263: DtypeWarning: Columns (5,13,14) have mixed types.Specify dtype option on import or set low_memory=False.\n",
      "  if (await self.run_code(code, result,  async_=asy)):\n"
     ]
    },
    {
     "name": "stdout",
     "output_type": "stream",
     "text": [
      "4\n",
      "5\n",
      "6\n"
     ]
    },
    {
     "ename": "ValueError",
     "evalue": "cannot insert marca, already exists",
     "output_type": "error",
     "traceback": [
      "\u001b[1;31m---------------------------------------------------------------------------\u001b[0m",
      "\u001b[1;31mValueError\u001b[0m                                Traceback (most recent call last)",
      "\u001b[1;32m<ipython-input-4-b3e923835477>\u001b[0m in \u001b[0;36m<module>\u001b[1;34m\u001b[0m\n\u001b[0;32m      4\u001b[0m \u001b[0mdataset_Q2\u001b[0m\u001b[1;33m=\u001b[0m\u001b[0mread_chunk\u001b[0m\u001b[1;33m(\u001b[0m\u001b[0mCOLUMNS_Q2\u001b[0m\u001b[1;33m)\u001b[0m\u001b[1;33m\u001b[0m\u001b[1;33m\u001b[0m\u001b[0m\n\u001b[0;32m      5\u001b[0m \u001b[1;31m#Transformation\u001b[0m\u001b[1;33m\u001b[0m\u001b[1;33m\u001b[0m\u001b[1;33m\u001b[0m\u001b[0m\n\u001b[1;32m----> 6\u001b[1;33m \u001b[0mtop_10_products\u001b[0m\u001b[1;33m=\u001b[0m\u001b[0mdataset_Q2\u001b[0m\u001b[1;33m.\u001b[0m\u001b[0mgroupby\u001b[0m\u001b[1;33m(\u001b[0m\u001b[0mCOLUMNS_Q2\u001b[0m\u001b[1;33m,\u001b[0m\u001b[0mas_index\u001b[0m\u001b[1;33m=\u001b[0m\u001b[1;32mFalse\u001b[0m\u001b[1;33m)\u001b[0m\u001b[1;33m.\u001b[0m\u001b[0magg\u001b[0m\u001b[1;33m(\u001b[0m\u001b[1;33m{\u001b[0m\u001b[1;34m'marca'\u001b[0m\u001b[1;33m:\u001b[0m\u001b[1;34m'count'\u001b[0m\u001b[1;33m}\u001b[0m\u001b[1;33m)\u001b[0m\u001b[1;33m\u001b[0m\u001b[1;33m\u001b[0m\u001b[0m\n\u001b[0m\u001b[0;32m      7\u001b[0m \u001b[0mtop_10_products_filter\u001b[0m\u001b[1;33m=\u001b[0m\u001b[0mtop_10_products\u001b[0m\u001b[1;33m.\u001b[0m\u001b[0msort_values\u001b[0m\u001b[1;33m(\u001b[0m\u001b[1;33m[\u001b[0m\u001b[1;34m'estado'\u001b[0m\u001b[1;33m,\u001b[0m\u001b[1;34m'marca'\u001b[0m\u001b[1;33m]\u001b[0m\u001b[1;33m,\u001b[0m\u001b[0mascending\u001b[0m\u001b[1;33m=\u001b[0m\u001b[1;33m(\u001b[0m\u001b[1;32mTrue\u001b[0m\u001b[1;33m,\u001b[0m\u001b[1;32mFalse\u001b[0m\u001b[1;33m)\u001b[0m\u001b[1;33m)\u001b[0m\u001b[1;33m,\u001b[0m\u001b[0mgroupby\u001b[0m\u001b[1;33m(\u001b[0m\u001b[1;34m'estado'\u001b[0m\u001b[1;33m)\u001b[0m\u001b[1;33m.\u001b[0m\u001b[0mhead\u001b[0m\u001b[1;33m(\u001b[0m\u001b[1;36m10\u001b[0m\u001b[1;33m)\u001b[0m\u001b[1;33m.\u001b[0m\u001b[0mreset_index\u001b[0m\u001b[1;33m(\u001b[0m\u001b[0mlevel\u001b[0m\u001b[1;33m=\u001b[0m\u001b[1;33m[\u001b[0m\u001b[1;36m0\u001b[0m\u001b[1;33m,\u001b[0m\u001b[1;36m1\u001b[0m\u001b[1;33m]\u001b[0m\u001b[1;33m)\u001b[0m\u001b[1;33m\u001b[0m\u001b[1;33m\u001b[0m\u001b[0m\n\u001b[0;32m      8\u001b[0m \u001b[0mtop_10_products_filter\u001b[0m\u001b[1;33m\u001b[0m\u001b[1;33m\u001b[0m\u001b[0m\n",
      "\u001b[1;32mC:\\ProgramData\\Anaconda3\\lib\\site-packages\\pandas\\core\\groupby\\generic.py\u001b[0m in \u001b[0;36maggregate\u001b[1;34m(self, func, *args, **kwargs)\u001b[0m\n\u001b[0;32m    960\u001b[0m \u001b[1;33m\u001b[0m\u001b[0m\n\u001b[0;32m    961\u001b[0m         \u001b[1;32mif\u001b[0m \u001b[1;32mnot\u001b[0m \u001b[0mself\u001b[0m\u001b[1;33m.\u001b[0m\u001b[0mas_index\u001b[0m\u001b[1;33m:\u001b[0m\u001b[1;33m\u001b[0m\u001b[1;33m\u001b[0m\u001b[0m\n\u001b[1;32m--> 962\u001b[1;33m             \u001b[0mself\u001b[0m\u001b[1;33m.\u001b[0m\u001b[0m_insert_inaxis_grouper_inplace\u001b[0m\u001b[1;33m(\u001b[0m\u001b[0mresult\u001b[0m\u001b[1;33m)\u001b[0m\u001b[1;33m\u001b[0m\u001b[1;33m\u001b[0m\u001b[0m\n\u001b[0m\u001b[0;32m    963\u001b[0m             \u001b[0mresult\u001b[0m\u001b[1;33m.\u001b[0m\u001b[0mindex\u001b[0m \u001b[1;33m=\u001b[0m \u001b[0mnp\u001b[0m\u001b[1;33m.\u001b[0m\u001b[0marange\u001b[0m\u001b[1;33m(\u001b[0m\u001b[0mlen\u001b[0m\u001b[1;33m(\u001b[0m\u001b[0mresult\u001b[0m\u001b[1;33m)\u001b[0m\u001b[1;33m)\u001b[0m\u001b[1;33m\u001b[0m\u001b[1;33m\u001b[0m\u001b[0m\n\u001b[0;32m    964\u001b[0m \u001b[1;33m\u001b[0m\u001b[0m\n",
      "\u001b[1;32mC:\\ProgramData\\Anaconda3\\lib\\site-packages\\pandas\\core\\groupby\\generic.py\u001b[0m in \u001b[0;36m_insert_inaxis_grouper_inplace\u001b[1;34m(self, result)\u001b[0m\n\u001b[0;32m   1668\u001b[0m         \u001b[1;32mfor\u001b[0m \u001b[0mname\u001b[0m\u001b[1;33m,\u001b[0m \u001b[0mlev\u001b[0m\u001b[1;33m,\u001b[0m \u001b[0min_axis\u001b[0m \u001b[1;32min\u001b[0m \u001b[0mizip\u001b[0m\u001b[1;33m:\u001b[0m\u001b[1;33m\u001b[0m\u001b[1;33m\u001b[0m\u001b[0m\n\u001b[0;32m   1669\u001b[0m             \u001b[1;32mif\u001b[0m \u001b[0min_axis\u001b[0m\u001b[1;33m:\u001b[0m\u001b[1;33m\u001b[0m\u001b[1;33m\u001b[0m\u001b[0m\n\u001b[1;32m-> 1670\u001b[1;33m                 \u001b[0mresult\u001b[0m\u001b[1;33m.\u001b[0m\u001b[0minsert\u001b[0m\u001b[1;33m(\u001b[0m\u001b[1;36m0\u001b[0m\u001b[1;33m,\u001b[0m \u001b[0mname\u001b[0m\u001b[1;33m,\u001b[0m \u001b[0mlev\u001b[0m\u001b[1;33m)\u001b[0m\u001b[1;33m\u001b[0m\u001b[1;33m\u001b[0m\u001b[0m\n\u001b[0m\u001b[0;32m   1671\u001b[0m \u001b[1;33m\u001b[0m\u001b[0m\n\u001b[0;32m   1672\u001b[0m     def _wrap_aggregated_output(\n",
      "\u001b[1;32mC:\\ProgramData\\Anaconda3\\lib\\site-packages\\pandas\\core\\frame.py\u001b[0m in \u001b[0;36minsert\u001b[1;34m(self, loc, column, value, allow_duplicates)\u001b[0m\n\u001b[0;32m   3494\u001b[0m         \u001b[0mself\u001b[0m\u001b[1;33m.\u001b[0m\u001b[0m_ensure_valid_index\u001b[0m\u001b[1;33m(\u001b[0m\u001b[0mvalue\u001b[0m\u001b[1;33m)\u001b[0m\u001b[1;33m\u001b[0m\u001b[1;33m\u001b[0m\u001b[0m\n\u001b[0;32m   3495\u001b[0m         \u001b[0mvalue\u001b[0m \u001b[1;33m=\u001b[0m \u001b[0mself\u001b[0m\u001b[1;33m.\u001b[0m\u001b[0m_sanitize_column\u001b[0m\u001b[1;33m(\u001b[0m\u001b[0mcolumn\u001b[0m\u001b[1;33m,\u001b[0m \u001b[0mvalue\u001b[0m\u001b[1;33m,\u001b[0m \u001b[0mbroadcast\u001b[0m\u001b[1;33m=\u001b[0m\u001b[1;32mFalse\u001b[0m\u001b[1;33m)\u001b[0m\u001b[1;33m\u001b[0m\u001b[1;33m\u001b[0m\u001b[0m\n\u001b[1;32m-> 3496\u001b[1;33m         \u001b[0mself\u001b[0m\u001b[1;33m.\u001b[0m\u001b[0m_data\u001b[0m\u001b[1;33m.\u001b[0m\u001b[0minsert\u001b[0m\u001b[1;33m(\u001b[0m\u001b[0mloc\u001b[0m\u001b[1;33m,\u001b[0m \u001b[0mcolumn\u001b[0m\u001b[1;33m,\u001b[0m \u001b[0mvalue\u001b[0m\u001b[1;33m,\u001b[0m \u001b[0mallow_duplicates\u001b[0m\u001b[1;33m=\u001b[0m\u001b[0mallow_duplicates\u001b[0m\u001b[1;33m)\u001b[0m\u001b[1;33m\u001b[0m\u001b[1;33m\u001b[0m\u001b[0m\n\u001b[0m\u001b[0;32m   3497\u001b[0m \u001b[1;33m\u001b[0m\u001b[0m\n\u001b[0;32m   3498\u001b[0m     \u001b[1;32mdef\u001b[0m \u001b[0massign\u001b[0m\u001b[1;33m(\u001b[0m\u001b[0mself\u001b[0m\u001b[1;33m,\u001b[0m \u001b[1;33m**\u001b[0m\u001b[0mkwargs\u001b[0m\u001b[1;33m)\u001b[0m \u001b[1;33m->\u001b[0m \u001b[1;34m\"DataFrame\"\u001b[0m\u001b[1;33m:\u001b[0m\u001b[1;33m\u001b[0m\u001b[1;33m\u001b[0m\u001b[0m\n",
      "\u001b[1;32mC:\\ProgramData\\Anaconda3\\lib\\site-packages\\pandas\\core\\internals\\managers.py\u001b[0m in \u001b[0;36minsert\u001b[1;34m(self, loc, item, value, allow_duplicates)\u001b[0m\n\u001b[0;32m   1171\u001b[0m         \u001b[1;32mif\u001b[0m \u001b[1;32mnot\u001b[0m \u001b[0mallow_duplicates\u001b[0m \u001b[1;32mand\u001b[0m \u001b[0mitem\u001b[0m \u001b[1;32min\u001b[0m \u001b[0mself\u001b[0m\u001b[1;33m.\u001b[0m\u001b[0mitems\u001b[0m\u001b[1;33m:\u001b[0m\u001b[1;33m\u001b[0m\u001b[1;33m\u001b[0m\u001b[0m\n\u001b[0;32m   1172\u001b[0m             \u001b[1;31m# Should this be a different kind of error??\u001b[0m\u001b[1;33m\u001b[0m\u001b[1;33m\u001b[0m\u001b[1;33m\u001b[0m\u001b[0m\n\u001b[1;32m-> 1173\u001b[1;33m             \u001b[1;32mraise\u001b[0m \u001b[0mValueError\u001b[0m\u001b[1;33m(\u001b[0m\u001b[1;34mf\"cannot insert {item}, already exists\"\u001b[0m\u001b[1;33m)\u001b[0m\u001b[1;33m\u001b[0m\u001b[1;33m\u001b[0m\u001b[0m\n\u001b[0m\u001b[0;32m   1174\u001b[0m \u001b[1;33m\u001b[0m\u001b[0m\n\u001b[0;32m   1175\u001b[0m         \u001b[1;32mif\u001b[0m \u001b[1;32mnot\u001b[0m \u001b[0misinstance\u001b[0m\u001b[1;33m(\u001b[0m\u001b[0mloc\u001b[0m\u001b[1;33m,\u001b[0m \u001b[0mint\u001b[0m\u001b[1;33m)\u001b[0m\u001b[1;33m:\u001b[0m\u001b[1;33m\u001b[0m\u001b[1;33m\u001b[0m\u001b[0m\n",
      "\u001b[1;31mValueError\u001b[0m: cannot insert marca, already exists"
     ]
    }
   ],
   "source": [
    "#Extraction\n",
    "COLUMNS_Q2=['estado','producto','marca']\n",
    "#dataset_Q2_little=dataset[COLUMNS_Q2]\n",
    "dataset_Q2=read_chunk(COLUMNS_Q2)\n",
    "#Transformation\n",
    "top_10_products=dataset_Q2.groupby(COLUMNS_Q2,as_index=False).agg({'marca':'count'})\n",
    "top_10_products_filter=top_10_products.sort_values(['estado','marca'],ascending=(True,False)),groupby('estado').head(10).reset_index(level=[0,1])\n",
    "top_10_products_filter"
   ]
  },
  {
   "cell_type": "code",
   "execution_count": 49,
   "metadata": {},
   "outputs": [
    {
     "data": {
      "text/html": [
       "<div>\n",
       "<style scoped>\n",
       "    .dataframe tbody tr th:only-of-type {\n",
       "        vertical-align: middle;\n",
       "    }\n",
       "\n",
       "    .dataframe tbody tr th {\n",
       "        vertical-align: top;\n",
       "    }\n",
       "\n",
       "    .dataframe thead th {\n",
       "        text-align: right;\n",
       "    }\n",
       "</style>\n",
       "<table border=\"1\" class=\"dataframe\">\n",
       "  <thead>\n",
       "    <tr style=\"text-align: right;\">\n",
       "      <th></th>\n",
       "      <th>estado</th>\n",
       "      <th>producto</th>\n",
       "      <th>cuenta</th>\n",
       "    </tr>\n",
       "  </thead>\n",
       "  <tbody>\n",
       "    <tr>\n",
       "      <th>397</th>\n",
       "      <td>AGUASCALIENTES</td>\n",
       "      <td>FUD</td>\n",
       "      <td>12005</td>\n",
       "    </tr>\n",
       "    <tr>\n",
       "      <th>302</th>\n",
       "      <td>AGUASCALIENTES</td>\n",
       "      <td>DETERGENTE P/ROPA</td>\n",
       "      <td>10188</td>\n",
       "    </tr>\n",
       "    <tr>\n",
       "      <th>520</th>\n",
       "      <td>AGUASCALIENTES</td>\n",
       "      <td>LECHE ULTRAPASTEURIZADA</td>\n",
       "      <td>9824</td>\n",
       "    </tr>\n",
       "    <tr>\n",
       "      <th>813</th>\n",
       "      <td>AGUASCALIENTES</td>\n",
       "      <td>SHAMPOO</td>\n",
       "      <td>9654</td>\n",
       "    </tr>\n",
       "    <tr>\n",
       "      <th>762</th>\n",
       "      <td>AGUASCALIENTES</td>\n",
       "      <td>REFRESCO</td>\n",
       "      <td>9481</td>\n",
       "    </tr>\n",
       "    <tr>\n",
       "      <th>301</th>\n",
       "      <td>AGUASCALIENTES</td>\n",
       "      <td>DESODORANTE</td>\n",
       "      <td>8859</td>\n",
       "    </tr>\n",
       "    <tr>\n",
       "      <th>467</th>\n",
       "      <td>AGUASCALIENTES</td>\n",
       "      <td>JABON DE TOCADOR</td>\n",
       "      <td>8517</td>\n",
       "    </tr>\n",
       "    <tr>\n",
       "      <th>214</th>\n",
       "      <td>AGUASCALIENTES</td>\n",
       "      <td>CHILES EN LATA</td>\n",
       "      <td>7946</td>\n",
       "    </tr>\n",
       "    <tr>\n",
       "      <th>930</th>\n",
       "      <td>AGUASCALIENTES</td>\n",
       "      <td>YOGHURT</td>\n",
       "      <td>7401</td>\n",
       "    </tr>\n",
       "    <tr>\n",
       "      <th>575</th>\n",
       "      <td>AGUASCALIENTES</td>\n",
       "      <td>MAYONESA</td>\n",
       "      <td>7173</td>\n",
       "    </tr>\n",
       "    <tr>\n",
       "      <th>1558</th>\n",
       "      <td>BAJA CALIFORNIA</td>\n",
       "      <td>REFRESCO</td>\n",
       "      <td>37243</td>\n",
       "    </tr>\n",
       "    <tr>\n",
       "      <th>1185</th>\n",
       "      <td>BAJA CALIFORNIA</td>\n",
       "      <td>DETERGENTE P/ROPA</td>\n",
       "      <td>23395</td>\n",
       "    </tr>\n",
       "    <tr>\n",
       "      <th>1261</th>\n",
       "      <td>BAJA CALIFORNIA</td>\n",
       "      <td>FUD</td>\n",
       "      <td>19967</td>\n",
       "    </tr>\n",
       "    <tr>\n",
       "      <th>1600</th>\n",
       "      <td>BAJA CALIFORNIA</td>\n",
       "      <td>SHAMPOO</td>\n",
       "      <td>19123</td>\n",
       "    </tr>\n",
       "    <tr>\n",
       "      <th>1313</th>\n",
       "      <td>BAJA CALIFORNIA</td>\n",
       "      <td>JABON DE TOCADOR</td>\n",
       "      <td>18348</td>\n",
       "    </tr>\n",
       "    <tr>\n",
       "      <th>1113</th>\n",
       "      <td>BAJA CALIFORNIA</td>\n",
       "      <td>CHILES EN LATA</td>\n",
       "      <td>16676</td>\n",
       "    </tr>\n",
       "    <tr>\n",
       "      <th>1266</th>\n",
       "      <td>BAJA CALIFORNIA</td>\n",
       "      <td>GALLETAS</td>\n",
       "      <td>15873</td>\n",
       "    </tr>\n",
       "    <tr>\n",
       "      <th>1473</th>\n",
       "      <td>BAJA CALIFORNIA</td>\n",
       "      <td>PANTALLAS</td>\n",
       "      <td>15703</td>\n",
       "    </tr>\n",
       "    <tr>\n",
       "      <th>1100</th>\n",
       "      <td>BAJA CALIFORNIA</td>\n",
       "      <td>CEREALES</td>\n",
       "      <td>15398</td>\n",
       "    </tr>\n",
       "    <tr>\n",
       "      <th>1184</th>\n",
       "      <td>BAJA CALIFORNIA</td>\n",
       "      <td>DESODORANTE</td>\n",
       "      <td>14748</td>\n",
       "    </tr>\n",
       "    <tr>\n",
       "      <th>2312</th>\n",
       "      <td>BAJA CALIFORNIA SUR</td>\n",
       "      <td>REFRESCO</td>\n",
       "      <td>27770</td>\n",
       "    </tr>\n",
       "    <tr>\n",
       "      <th>2018</th>\n",
       "      <td>BAJA CALIFORNIA SUR</td>\n",
       "      <td>FUD</td>\n",
       "      <td>17776</td>\n",
       "    </tr>\n",
       "    <tr>\n",
       "      <th>2228</th>\n",
       "      <td>BAJA CALIFORNIA SUR</td>\n",
       "      <td>PANTALLAS</td>\n",
       "      <td>17383</td>\n",
       "    </tr>\n",
       "    <tr>\n",
       "      <th>1942</th>\n",
       "      <td>BAJA CALIFORNIA SUR</td>\n",
       "      <td>DETERGENTE P/ROPA</td>\n",
       "      <td>15510</td>\n",
       "    </tr>\n",
       "    <tr>\n",
       "      <th>2111</th>\n",
       "      <td>BAJA CALIFORNIA SUR</td>\n",
       "      <td>LAVADORAS</td>\n",
       "      <td>13242</td>\n",
       "    </tr>\n",
       "    <tr>\n",
       "      <th>2354</th>\n",
       "      <td>BAJA CALIFORNIA SUR</td>\n",
       "      <td>SHAMPOO</td>\n",
       "      <td>12844</td>\n",
       "    </tr>\n",
       "    <tr>\n",
       "      <th>2070</th>\n",
       "      <td>BAJA CALIFORNIA SUR</td>\n",
       "      <td>JABON DE TOCADOR</td>\n",
       "      <td>12799</td>\n",
       "    </tr>\n",
       "    <tr>\n",
       "      <th>1871</th>\n",
       "      <td>BAJA CALIFORNIA SUR</td>\n",
       "      <td>CHILES EN LATA</td>\n",
       "      <td>11537</td>\n",
       "    </tr>\n",
       "    <tr>\n",
       "      <th>2274</th>\n",
       "      <td>BAJA CALIFORNIA SUR</td>\n",
       "      <td>PLANCHAS</td>\n",
       "      <td>11301</td>\n",
       "    </tr>\n",
       "    <tr>\n",
       "      <th>1906</th>\n",
       "      <td>BAJA CALIFORNIA SUR</td>\n",
       "      <td>COMPONENTES DE AUDIO</td>\n",
       "      <td>11036</td>\n",
       "    </tr>\n",
       "    <tr>\n",
       "      <th>2775</th>\n",
       "      <td>CAMPECHE</td>\n",
       "      <td>FUD</td>\n",
       "      <td>12960</td>\n",
       "    </tr>\n",
       "    <tr>\n",
       "      <th>3068</th>\n",
       "      <td>CAMPECHE</td>\n",
       "      <td>REFRESCO</td>\n",
       "      <td>11333</td>\n",
       "    </tr>\n",
       "    <tr>\n",
       "      <th>2984</th>\n",
       "      <td>CAMPECHE</td>\n",
       "      <td>PANTALLAS</td>\n",
       "      <td>10449</td>\n",
       "    </tr>\n",
       "    <tr>\n",
       "      <th>2868</th>\n",
       "      <td>CAMPECHE</td>\n",
       "      <td>LAVADORAS</td>\n",
       "      <td>9729</td>\n",
       "    </tr>\n",
       "    <tr>\n",
       "      <th>2699</th>\n",
       "      <td>CAMPECHE</td>\n",
       "      <td>DETERGENTE P/ROPA</td>\n",
       "      <td>8307</td>\n",
       "    </tr>\n",
       "    <tr>\n",
       "      <th>2872</th>\n",
       "      <td>CAMPECHE</td>\n",
       "      <td>LECHE ULTRAPASTEURIZADA</td>\n",
       "      <td>8027</td>\n",
       "    </tr>\n",
       "    <tr>\n",
       "      <th>3070</th>\n",
       "      <td>CAMPECHE</td>\n",
       "      <td>REFRIGERADORES</td>\n",
       "      <td>7572</td>\n",
       "    </tr>\n",
       "    <tr>\n",
       "      <th>3110</th>\n",
       "      <td>CAMPECHE</td>\n",
       "      <td>SHAMPOO</td>\n",
       "      <td>7560</td>\n",
       "    </tr>\n",
       "    <tr>\n",
       "      <th>2827</th>\n",
       "      <td>CAMPECHE</td>\n",
       "      <td>JABON DE TOCADOR</td>\n",
       "      <td>7543</td>\n",
       "    </tr>\n",
       "    <tr>\n",
       "      <th>3030</th>\n",
       "      <td>CAMPECHE</td>\n",
       "      <td>PLANCHAS</td>\n",
       "      <td>7139</td>\n",
       "    </tr>\n",
       "    <tr>\n",
       "      <th>3821</th>\n",
       "      <td>CHIAPAS</td>\n",
       "      <td>REFRESCO</td>\n",
       "      <td>14452</td>\n",
       "    </tr>\n",
       "    <tr>\n",
       "      <th>3529</th>\n",
       "      <td>CHIAPAS</td>\n",
       "      <td>FUD</td>\n",
       "      <td>10417</td>\n",
       "    </tr>\n",
       "    <tr>\n",
       "      <th>3454</th>\n",
       "      <td>CHIAPAS</td>\n",
       "      <td>DETERGENTE P/ROPA</td>\n",
       "      <td>8831</td>\n",
       "    </tr>\n",
       "    <tr>\n",
       "      <th>3738</th>\n",
       "      <td>CHIAPAS</td>\n",
       "      <td>PANTALLAS</td>\n",
       "      <td>8395</td>\n",
       "    </tr>\n",
       "    <tr>\n",
       "      <th>3580</th>\n",
       "      <td>CHIAPAS</td>\n",
       "      <td>JABON DE TOCADOR</td>\n",
       "      <td>7841</td>\n",
       "    </tr>\n",
       "    <tr>\n",
       "      <th>3382</th>\n",
       "      <td>CHIAPAS</td>\n",
       "      <td>CHILES EN LATA</td>\n",
       "      <td>7707</td>\n",
       "    </tr>\n",
       "    <tr>\n",
       "      <th>3863</th>\n",
       "      <td>CHIAPAS</td>\n",
       "      <td>SHAMPOO</td>\n",
       "      <td>7601</td>\n",
       "    </tr>\n",
       "    <tr>\n",
       "      <th>3625</th>\n",
       "      <td>CHIAPAS</td>\n",
       "      <td>LECHE ULTRAPASTEURIZADA</td>\n",
       "      <td>7278</td>\n",
       "    </tr>\n",
       "    <tr>\n",
       "      <th>3453</th>\n",
       "      <td>CHIAPAS</td>\n",
       "      <td>DESODORANTE</td>\n",
       "      <td>7038</td>\n",
       "    </tr>\n",
       "    <tr>\n",
       "      <th>3370</th>\n",
       "      <td>CHIAPAS</td>\n",
       "      <td>CERVEZA</td>\n",
       "      <td>6980</td>\n",
       "    </tr>\n",
       "  </tbody>\n",
       "</table>\n",
       "</div>"
      ],
      "text/plain": [
       "                   estado                 producto  cuenta\n",
       "397        AGUASCALIENTES                      FUD   12005\n",
       "302        AGUASCALIENTES        DETERGENTE P/ROPA   10188\n",
       "520        AGUASCALIENTES  LECHE ULTRAPASTEURIZADA    9824\n",
       "813        AGUASCALIENTES                  SHAMPOO    9654\n",
       "762        AGUASCALIENTES                 REFRESCO    9481\n",
       "301        AGUASCALIENTES              DESODORANTE    8859\n",
       "467        AGUASCALIENTES         JABON DE TOCADOR    8517\n",
       "214        AGUASCALIENTES           CHILES EN LATA    7946\n",
       "930        AGUASCALIENTES                  YOGHURT    7401\n",
       "575        AGUASCALIENTES                 MAYONESA    7173\n",
       "1558      BAJA CALIFORNIA                 REFRESCO   37243\n",
       "1185      BAJA CALIFORNIA        DETERGENTE P/ROPA   23395\n",
       "1261      BAJA CALIFORNIA                      FUD   19967\n",
       "1600      BAJA CALIFORNIA                  SHAMPOO   19123\n",
       "1313      BAJA CALIFORNIA         JABON DE TOCADOR   18348\n",
       "1113      BAJA CALIFORNIA           CHILES EN LATA   16676\n",
       "1266      BAJA CALIFORNIA                 GALLETAS   15873\n",
       "1473      BAJA CALIFORNIA                PANTALLAS   15703\n",
       "1100      BAJA CALIFORNIA                 CEREALES   15398\n",
       "1184      BAJA CALIFORNIA              DESODORANTE   14748\n",
       "2312  BAJA CALIFORNIA SUR                 REFRESCO   27770\n",
       "2018  BAJA CALIFORNIA SUR                      FUD   17776\n",
       "2228  BAJA CALIFORNIA SUR                PANTALLAS   17383\n",
       "1942  BAJA CALIFORNIA SUR        DETERGENTE P/ROPA   15510\n",
       "2111  BAJA CALIFORNIA SUR                LAVADORAS   13242\n",
       "2354  BAJA CALIFORNIA SUR                  SHAMPOO   12844\n",
       "2070  BAJA CALIFORNIA SUR         JABON DE TOCADOR   12799\n",
       "1871  BAJA CALIFORNIA SUR           CHILES EN LATA   11537\n",
       "2274  BAJA CALIFORNIA SUR                 PLANCHAS   11301\n",
       "1906  BAJA CALIFORNIA SUR     COMPONENTES DE AUDIO   11036\n",
       "2775             CAMPECHE                      FUD   12960\n",
       "3068             CAMPECHE                 REFRESCO   11333\n",
       "2984             CAMPECHE                PANTALLAS   10449\n",
       "2868             CAMPECHE                LAVADORAS    9729\n",
       "2699             CAMPECHE        DETERGENTE P/ROPA    8307\n",
       "2872             CAMPECHE  LECHE ULTRAPASTEURIZADA    8027\n",
       "3070             CAMPECHE           REFRIGERADORES    7572\n",
       "3110             CAMPECHE                  SHAMPOO    7560\n",
       "2827             CAMPECHE         JABON DE TOCADOR    7543\n",
       "3030             CAMPECHE                 PLANCHAS    7139\n",
       "3821              CHIAPAS                 REFRESCO   14452\n",
       "3529              CHIAPAS                      FUD   10417\n",
       "3454              CHIAPAS        DETERGENTE P/ROPA    8831\n",
       "3738              CHIAPAS                PANTALLAS    8395\n",
       "3580              CHIAPAS         JABON DE TOCADOR    7841\n",
       "3382              CHIAPAS           CHILES EN LATA    7707\n",
       "3863              CHIAPAS                  SHAMPOO    7601\n",
       "3625              CHIAPAS  LECHE ULTRAPASTEURIZADA    7278\n",
       "3453              CHIAPAS              DESODORANTE    7038\n",
       "3370              CHIAPAS                  CERVEZA    6980"
      ]
     },
     "execution_count": 49,
     "metadata": {},
     "output_type": "execute_result"
    }
   ],
   "source": [
    "#Extraction\n",
    "COLUMNS_Q2=['estado','producto','marca']\n",
    "#dataset_Q2=dataset[COLUMNS_Q2]\n",
    "dataset_Q2=pd.read_csv(r'.\\top_10_raw_data.csv')\n",
    "#Transformation\n",
    "#group per state and product count.\n",
    "top_10_products=dataset_Q2.groupby(['estado','producto'],group_keys=False)['producto'].count()\n",
    "#work with sample\n",
    "#top_10_products_filter=top_10_products.groupby('estado',group_keys=False).nlargest(10)\n",
    "#top_10_products_filter\n",
    "#Work with big file\n",
    "#convert series to dataframe.\n",
    "df=pd.DataFrame(top_10_products)\n",
    "#rename column with counts to cuenta\n",
    "df=df.rename(columns={'producto':'cuenta'})\n",
    "#reset previous index\n",
    "df=df.reset_index()\n",
    "#sort values by state and cuenta\n",
    "df=df.sort_values(['estado','cuenta'],ascending=(True,False))\n",
    "#group by estado and only take the first 10\n",
    "df_10=df.groupby('estado',group_keys=False).head(10)\n",
    "df_10.head(50)\n",
    "del dataset_Q2"
   ]
  },
  {
   "cell_type": "markdown",
   "metadata": {},
   "source": [
    "## Q3 process"
   ]
  },
  {
   "cell_type": "code",
   "execution_count": 5,
   "metadata": {},
   "outputs": [
    {
     "name": "stdout",
     "output_type": "stream",
     "text": [
      "0\n",
      "1\n",
      "2\n",
      "3\n"
     ]
    },
    {
     "name": "stderr",
     "output_type": "stream",
     "text": [
      "C:\\ProgramData\\Anaconda3\\lib\\site-packages\\IPython\\core\\interactiveshell.py:3263: DtypeWarning: Columns (5,13,14) have mixed types.Specify dtype option on import or set low_memory=False.\n",
      "  if (await self.run_code(code, result,  async_=asy)):\n"
     ]
    },
    {
     "name": "stdout",
     "output_type": "stream",
     "text": [
      "4\n",
      "5\n",
      "6\n"
     ]
    }
   ],
   "source": [
    "#Extraction\n",
    "COLUMNS_Q3=['cadenaComercial','producto']\n",
    "#dataset_Q3=dataset[COLUMNS_Q3]\n",
    "dataset_Q3=read_chunk(COLUMNS_Q3)\n",
    "#Transformation\n",
    "cadena_per_product=dataset_Q3.groupby(['cadenaComercial']).producto.count()\n",
    "cadena_most_monitoring_prod=cadena_per_product.nlargest(1).reset_index()\n",
    "cadena_most_monitoring_prod['cadenaComercial'][0:]\n",
    "del dataset_Q3"
   ]
  },
  {
   "cell_type": "markdown",
   "metadata": {},
   "source": [
    "# Q1 How many commercial chains are monitored, and therefore, included in this database?\n"
   ]
  },
  {
   "cell_type": "code",
   "execution_count": 60,
   "metadata": {},
   "outputs": [
    {
     "name": "stdout",
     "output_type": "stream",
     "text": [
      "There are 705 commercial chains which products are  monitored\n"
     ]
    }
   ],
   "source": [
    "print(f\"There are {count_cadena_comercial_Q1[0]} commercial chains which products are  monitored\")"
   ]
  },
  {
   "cell_type": "markdown",
   "metadata": {},
   "source": [
    "#  Q2 What are the top 10 monitored products by State?"
   ]
  },
  {
   "cell_type": "code",
   "execution_count": 50,
   "metadata": {},
   "outputs": [
    {
     "name": "stdout",
     "output_type": "stream",
     "text": [
      "Top 10 products by state can be reviewed in .\\top_10_per_state.csv\n"
     ]
    }
   ],
   "source": [
    "path=r'.\\top_10_per_state.csv'\n",
    "df_10.to_csv('example.csv')\n",
    "print(f\"Top 10 products by state can be reviewed in {path}\")"
   ]
  },
  {
   "cell_type": "markdown",
   "metadata": {},
   "source": [
    "# Q3 Which is the commercial chain with the highest number of monitored products?"
   ]
  },
  {
   "cell_type": "code",
   "execution_count": 6,
   "metadata": {},
   "outputs": [
    {
     "name": "stdout",
     "output_type": "stream",
     "text": [
      " Comercial chain with highest number of monitored products is: WAL-MART\n"
     ]
    }
   ],
   "source": [
    "print(f\" Comercial chain with highest number of monitored products is: {cadena_most_monitoring_prod['cadenaComercial'].values[0]}\")"
   ]
  },
  {
   "cell_type": "code",
   "execution_count": 7,
   "metadata": {},
   "outputs": [
    {
     "data": {
      "text/html": [
       "<div>\n",
       "<style scoped>\n",
       "    .dataframe tbody tr th:only-of-type {\n",
       "        vertical-align: middle;\n",
       "    }\n",
       "\n",
       "    .dataframe tbody tr th {\n",
       "        vertical-align: top;\n",
       "    }\n",
       "\n",
       "    .dataframe thead th {\n",
       "        text-align: right;\n",
       "    }\n",
       "</style>\n",
       "<table border=\"1\" class=\"dataframe\">\n",
       "  <thead>\n",
       "    <tr style=\"text-align: right;\">\n",
       "      <th></th>\n",
       "      <th>cadenaComercial</th>\n",
       "      <th>producto</th>\n",
       "    </tr>\n",
       "  </thead>\n",
       "  <tbody>\n",
       "    <tr>\n",
       "      <th>0</th>\n",
       "      <td>WAL-MART</td>\n",
       "      <td>8643133</td>\n",
       "    </tr>\n",
       "  </tbody>\n",
       "</table>\n",
       "</div>"
      ],
      "text/plain": [
       "  cadenaComercial  producto\n",
       "0        WAL-MART   8643133"
      ]
     },
     "execution_count": 7,
     "metadata": {},
     "output_type": "execute_result"
    }
   ],
   "source": [
    "cadena_most_monitoring_prod"
   ]
  },
  {
   "cell_type": "markdown",
   "metadata": {},
   "source": [
    "# Q4 Use the data to find an interesting fact"
   ]
  },
  {
   "cell_type": "code",
   "execution_count": 159,
   "metadata": {
    "scrolled": false
   },
   "outputs": [
    {
     "name": "stdout",
     "output_type": "stream",
     "text": [
      "Hola\n",
      "                                     producto  \\\n",
      "9                          PAN BLANCO BOLILLO   \n",
      "10                           HARINA HOT CAKES   \n",
      "11                            PASTA PARA SOPA   \n",
      "12                            GALLETAS DULCES   \n",
      "13                            GALLETAS DULCES   \n",
      "..                                        ...   \n",
      "774                                     ARROZ   \n",
      "775                               CARNE POLLO   \n",
      "776                               CARNE CERDO   \n",
      "777                                 CARNE RES   \n",
      "778  CHULETA DE RES/CHULETA COSTILLA/CHULETON   \n",
      "\n",
      "                                         presentacion                 marca  \\\n",
      "9                                               PIEZA                   S/M   \n",
      "10                                       CAJA 800 GR.  PRONTO TRADICIONALES   \n",
      "11                          PAQUETE 200 GR. SPAGHETTI                 VESTA   \n",
      "12                             CAJA 652 GR. RICANELAS                GAMESA   \n",
      "13                         PAQUETE 280 GR. POLVORONES              MARINELA   \n",
      "..                                                ...                   ...   \n",
      "774                         BOLSA 900 GR. SUPER EXTRA           VERDE VALLE   \n",
      "775    1 KG. GRANEL. ENTERO. CON VICERAS O TIPO SUPER                   S/M   \n",
      "776  1 KG. GRANEL. CHULETA AHUMADA O ENTRECOT AHUMADO                   S/M   \n",
      "777                       1 KG. GRANEL. FILETE LIMPIO                   S/M   \n",
      "778                                      1 KG. GRANEL                   S/M   \n",
      "\n",
      "                              categoria  catalogo  precio  \\\n",
      "9                                   PAN   BASICOS    1.20   \n",
      "10   GALLETAS PASTAS Y HARINAS DE TRIGO   BASICOS   21.63   \n",
      "11   GALLETAS PASTAS Y HARINAS DE TRIGO   BASICOS    3.45   \n",
      "12   GALLETAS PASTAS Y HARINAS DE TRIGO   BASICOS   21.77   \n",
      "13   GALLETAS PASTAS Y HARINAS DE TRIGO   BASICOS   13.00   \n",
      "..                                  ...       ...     ...   \n",
      "774         ARROZ Y CEREALES PREPARADOS   BASICOS   15.90   \n",
      "775                        CARNE DE AVE   BASICOS   29.90   \n",
      "776           CARNE Y VISCERAS DE CERDO   BASICOS   74.90   \n",
      "777             CARNE Y VISCERAS DE RES   BASICOS  180.00   \n",
      "778             CARNE Y VISCERAS DE RES  MERCADOS   90.50   \n",
      "\n",
      "               fechaRegistro     cadenaComercial                    giro  \\\n",
      "9    2011-01-10 00:00:00.000  COMERCIAL MEXICANA  TIENDA DE AUTOSERVICIO   \n",
      "10   2011-01-10 00:00:00.000  COMERCIAL MEXICANA  TIENDA DE AUTOSERVICIO   \n",
      "11   2011-01-10 00:00:00.000  COMERCIAL MEXICANA  TIENDA DE AUTOSERVICIO   \n",
      "12   2011-01-10 00:00:00.000  COMERCIAL MEXICANA  TIENDA DE AUTOSERVICIO   \n",
      "13   2011-01-10 00:00:00.000  COMERCIAL MEXICANA  TIENDA DE AUTOSERVICIO   \n",
      "..                       ...                 ...                     ...   \n",
      "774  2011-01-10 00:00:00.000  COMERCIAL MEXICANA  TIENDA DE AUTOSERVICIO   \n",
      "775  2011-01-10 00:00:00.000  COMERCIAL MEXICANA  TIENDA DE AUTOSERVICIO   \n",
      "776  2011-01-10 00:00:00.000  COMERCIAL MEXICANA  TIENDA DE AUTOSERVICIO   \n",
      "777  2011-01-10 00:00:00.000  COMERCIAL MEXICANA  TIENDA DE AUTOSERVICIO   \n",
      "778  2011-01-10 00:00:00.000  COMERCIAL MEXICANA  TIENDA DE AUTOSERVICIO   \n",
      "\n",
      "                                       nombreComercial  \\\n",
      "9    COMERCIAL MEXICANA SUCURSAL VILLAS DE LA HACIENDA   \n",
      "10   COMERCIAL MEXICANA SUCURSAL VILLAS DE LA HACIENDA   \n",
      "11   COMERCIAL MEXICANA SUCURSAL VILLAS DE LA HACIENDA   \n",
      "12   COMERCIAL MEXICANA SUCURSAL VILLAS DE LA HACIENDA   \n",
      "13   COMERCIAL MEXICANA SUCURSAL VILLAS DE LA HACIENDA   \n",
      "..                                                 ...   \n",
      "774  COMERCIAL MEXICANA SUCURSAL VILLAS DE LA HACIENDA   \n",
      "775  COMERCIAL MEXICANA SUCURSAL VILLAS DE LA HACIENDA   \n",
      "776  COMERCIAL MEXICANA SUCURSAL VILLAS DE LA HACIENDA   \n",
      "777  COMERCIAL MEXICANA SUCURSAL VILLAS DE LA HACIENDA   \n",
      "778  COMERCIAL MEXICANA SUCURSAL VILLAS DE LA HACIENDA   \n",
      "\n",
      "                                        direccion  estado  \\\n",
      "9    AV. LAGO DE GUADALUPE S/N ESQ. DE LAS VILLAS  MÉXICO   \n",
      "10   AV. LAGO DE GUADALUPE S/N ESQ. DE LAS VILLAS  MÉXICO   \n",
      "11   AV. LAGO DE GUADALUPE S/N ESQ. DE LAS VILLAS  MÉXICO   \n",
      "12   AV. LAGO DE GUADALUPE S/N ESQ. DE LAS VILLAS  MÉXICO   \n",
      "13   AV. LAGO DE GUADALUPE S/N ESQ. DE LAS VILLAS  MÉXICO   \n",
      "..                                            ...     ...   \n",
      "774  AV. LAGO DE GUADALUPE S/N ESQ. DE LAS VILLAS  MÉXICO   \n",
      "775  AV. LAGO DE GUADALUPE S/N ESQ. DE LAS VILLAS  MÉXICO   \n",
      "776  AV. LAGO DE GUADALUPE S/N ESQ. DE LAS VILLAS  MÉXICO   \n",
      "777  AV. LAGO DE GUADALUPE S/N ESQ. DE LAS VILLAS  MÉXICO   \n",
      "778  AV. LAGO DE GUADALUPE S/N ESQ. DE LAS VILLAS  MÉXICO   \n",
      "\n",
      "                                    municipio  latitud  longitud  \n",
      "9    ATIZAPAN                                      NaN       NaN  \n",
      "10   ATIZAPAN                                      NaN       NaN  \n",
      "11   ATIZAPAN                                      NaN       NaN  \n",
      "12   ATIZAPAN                                      NaN       NaN  \n",
      "13   ATIZAPAN                                      NaN       NaN  \n",
      "..                                        ...      ...       ...  \n",
      "774  ATIZAPAN                                      NaN       NaN  \n",
      "775  ATIZAPAN                                      NaN       NaN  \n",
      "776  ATIZAPAN                                      NaN       NaN  \n",
      "777  ATIZAPAN                                      NaN       NaN  \n",
      "778  ATIZAPAN                                      NaN       NaN  \n",
      "\n",
      "[770 rows x 15 columns]\n",
      "                                     producto  \\\n",
      "9                          PAN BLANCO BOLILLO   \n",
      "10                           HARINA HOT CAKES   \n",
      "11                            PASTA PARA SOPA   \n",
      "12                            GALLETAS DULCES   \n",
      "13                            GALLETAS DULCES   \n",
      "..                                        ...   \n",
      "774                                     ARROZ   \n",
      "775                               CARNE POLLO   \n",
      "776                               CARNE CERDO   \n",
      "777                                 CARNE RES   \n",
      "778  CHULETA DE RES/CHULETA COSTILLA/CHULETON   \n",
      "\n",
      "                                         presentacion                 marca  \\\n",
      "9                                               PIEZA                   S/M   \n",
      "10                                       CAJA 800 GR.  PRONTO TRADICIONALES   \n",
      "11                          PAQUETE 200 GR. SPAGHETTI                 VESTA   \n",
      "12                             CAJA 652 GR. RICANELAS                GAMESA   \n",
      "13                         PAQUETE 280 GR. POLVORONES              MARINELA   \n",
      "..                                                ...                   ...   \n",
      "774                         BOLSA 900 GR. SUPER EXTRA           VERDE VALLE   \n",
      "775    1 KG. GRANEL. ENTERO. CON VICERAS O TIPO SUPER                   S/M   \n",
      "776  1 KG. GRANEL. CHULETA AHUMADA O ENTRECOT AHUMADO                   S/M   \n",
      "777                       1 KG. GRANEL. FILETE LIMPIO                   S/M   \n",
      "778                                      1 KG. GRANEL                   S/M   \n",
      "\n",
      "                              categoria  catalogo  precio  \\\n",
      "9                                   PAN   BASICOS    1.20   \n",
      "10   GALLETAS PASTAS Y HARINAS DE TRIGO   BASICOS   21.63   \n",
      "11   GALLETAS PASTAS Y HARINAS DE TRIGO   BASICOS    3.45   \n",
      "12   GALLETAS PASTAS Y HARINAS DE TRIGO   BASICOS   21.77   \n",
      "13   GALLETAS PASTAS Y HARINAS DE TRIGO   BASICOS   13.00   \n",
      "..                                  ...       ...     ...   \n",
      "774         ARROZ Y CEREALES PREPARADOS   BASICOS   15.90   \n",
      "775                        CARNE DE AVE   BASICOS   29.90   \n",
      "776           CARNE Y VISCERAS DE CERDO   BASICOS   74.90   \n",
      "777             CARNE Y VISCERAS DE RES   BASICOS  180.00   \n",
      "778             CARNE Y VISCERAS DE RES  MERCADOS   90.50   \n",
      "\n",
      "               fechaRegistro     cadenaComercial                    giro  \\\n",
      "9    2011-01-10 00:00:00.000  COMERCIAL MEXICANA  TIENDA DE AUTOSERVICIO   \n",
      "10   2011-01-10 00:00:00.000  COMERCIAL MEXICANA  TIENDA DE AUTOSERVICIO   \n",
      "11   2011-01-10 00:00:00.000  COMERCIAL MEXICANA  TIENDA DE AUTOSERVICIO   \n",
      "12   2011-01-10 00:00:00.000  COMERCIAL MEXICANA  TIENDA DE AUTOSERVICIO   \n",
      "13   2011-01-10 00:00:00.000  COMERCIAL MEXICANA  TIENDA DE AUTOSERVICIO   \n",
      "..                       ...                 ...                     ...   \n",
      "774  2011-01-10 00:00:00.000  COMERCIAL MEXICANA  TIENDA DE AUTOSERVICIO   \n",
      "775  2011-01-10 00:00:00.000  COMERCIAL MEXICANA  TIENDA DE AUTOSERVICIO   \n",
      "776  2011-01-10 00:00:00.000  COMERCIAL MEXICANA  TIENDA DE AUTOSERVICIO   \n",
      "777  2011-01-10 00:00:00.000  COMERCIAL MEXICANA  TIENDA DE AUTOSERVICIO   \n",
      "778  2011-01-10 00:00:00.000  COMERCIAL MEXICANA  TIENDA DE AUTOSERVICIO   \n",
      "\n",
      "                                       nombreComercial  \\\n",
      "9    COMERCIAL MEXICANA SUCURSAL VILLAS DE LA HACIENDA   \n",
      "10   COMERCIAL MEXICANA SUCURSAL VILLAS DE LA HACIENDA   \n",
      "11   COMERCIAL MEXICANA SUCURSAL VILLAS DE LA HACIENDA   \n",
      "12   COMERCIAL MEXICANA SUCURSAL VILLAS DE LA HACIENDA   \n",
      "13   COMERCIAL MEXICANA SUCURSAL VILLAS DE LA HACIENDA   \n",
      "..                                                 ...   \n",
      "774  COMERCIAL MEXICANA SUCURSAL VILLAS DE LA HACIENDA   \n",
      "775  COMERCIAL MEXICANA SUCURSAL VILLAS DE LA HACIENDA   \n",
      "776  COMERCIAL MEXICANA SUCURSAL VILLAS DE LA HACIENDA   \n",
      "777  COMERCIAL MEXICANA SUCURSAL VILLAS DE LA HACIENDA   \n",
      "778  COMERCIAL MEXICANA SUCURSAL VILLAS DE LA HACIENDA   \n",
      "\n",
      "                                        direccion  estado  \\\n",
      "9    AV. LAGO DE GUADALUPE S/N ESQ. DE LAS VILLAS  MÉXICO   \n",
      "10   AV. LAGO DE GUADALUPE S/N ESQ. DE LAS VILLAS  MÉXICO   \n",
      "11   AV. LAGO DE GUADALUPE S/N ESQ. DE LAS VILLAS  MÉXICO   \n",
      "12   AV. LAGO DE GUADALUPE S/N ESQ. DE LAS VILLAS  MÉXICO   \n",
      "13   AV. LAGO DE GUADALUPE S/N ESQ. DE LAS VILLAS  MÉXICO   \n",
      "..                                            ...     ...   \n",
      "774  AV. LAGO DE GUADALUPE S/N ESQ. DE LAS VILLAS  MÉXICO   \n",
      "775  AV. LAGO DE GUADALUPE S/N ESQ. DE LAS VILLAS  MÉXICO   \n",
      "776  AV. LAGO DE GUADALUPE S/N ESQ. DE LAS VILLAS  MÉXICO   \n",
      "777  AV. LAGO DE GUADALUPE S/N ESQ. DE LAS VILLAS  MÉXICO   \n",
      "778  AV. LAGO DE GUADALUPE S/N ESQ. DE LAS VILLAS  MÉXICO   \n",
      "\n",
      "                                    municipio  latitud  longitud  \n",
      "9    ATIZAPAN                                      NaN       NaN  \n",
      "10   ATIZAPAN                                      NaN       NaN  \n",
      "11   ATIZAPAN                                      NaN       NaN  \n",
      "12   ATIZAPAN                                      NaN       NaN  \n",
      "13   ATIZAPAN                                      NaN       NaN  \n",
      "..                                        ...      ...       ...  \n",
      "774  ATIZAPAN                                      NaN       NaN  \n",
      "775  ATIZAPAN                                      NaN       NaN  \n",
      "776  ATIZAPAN                                      NaN       NaN  \n",
      "777  ATIZAPAN                                      NaN       NaN  \n",
      "778  ATIZAPAN                                      NaN       NaN  \n",
      "\n",
      "[770 rows x 15 columns]\n"
     ]
    },
    {
     "name": "stdout",
     "output_type": "stream",
     "text": [
      "[[[19.29699, -99.125417], [19.29699, -99.125417], [19.29699, -99.125417], [19.29699, -99.125417], [19.29699, -99.125417], [19.29699, -99.125417], [19.29699, -99.125417], [19.29699, -99.125417], [19.29699, -99.125417]], [[19.366903, -99.181344], [19.366903, -99.181344], [19.366903, -99.181344], [19.366903, -99.181344], [19.366903, -99.181344], [19.366903, -99.181344], [19.366903, -99.181344], [19.366903, -99.181344], [19.366903, -99.181344], [19.366903, -99.181344], [19.366903, -99.181344], [19.366903, -99.181344], [19.366903, -99.181344], [19.366903, -99.181344], [19.366903, -99.181344], [19.366903, -99.181344], [19.366903, -99.181344], [19.366903, -99.181344], [19.366903, -99.181344], [19.366903, -99.181344], [19.366903, -99.181344], [19.366903, -99.181344], [19.366903, -99.181344], [19.366903, -99.181344], [19.366903, -99.181344], [19.366903, -99.181344], [19.366903, -99.181344], [19.366903, -99.181344], [19.366903, -99.181344], [19.366903, -99.181344], [19.366903, -99.181344], [19.366903, -99.181344], [19.366903, -99.181344], [19.366903, -99.181344], [19.366903, -99.181344], [19.366903, -99.181344], [19.366903, -99.181344], [19.366903, -99.181344], [19.366903, -99.181344], [19.366903, -99.181344], [19.366903, -99.181344], [19.366903, -99.181344], [19.366903, -99.181344], [19.366903, -99.181344], [19.366903, -99.181344], [19.366903, -99.181344], [19.366903, -99.181344], [19.366903, -99.181344], [19.366903, -99.181344], [19.366903, -99.181344], [19.366903, -99.181344], [19.366903, -99.181344], [19.366903, -99.181344], [19.366903, -99.181344], [19.366903, -99.181344], [19.366903, -99.181344], [19.366903, -99.181344], [19.366903, -99.181344], [19.366903, -99.181344], [19.366903, -99.181344], [19.366903, -99.181344], [19.366903, -99.181344], [19.366903, -99.181344], [19.366903, -99.181344], [19.366903, -99.181344], [19.366903, -99.181344], [19.366903, -99.181344], [19.366903, -99.181344], [19.366903, -99.181344], [19.366903, -99.181344], [19.366903, -99.181344], [19.366903, -99.181344], [19.366903, -99.181344], [19.366903, -99.181344], [19.366903, -99.181344], [19.366903, -99.181344], [19.366903, -99.181344], [19.366903, -99.181344], [19.366903, -99.181344], [19.366903, -99.181344], [19.366903, -99.181344], [19.366903, -99.181344], [19.366903, -99.181344], [19.366903, -99.181344], [19.366903, -99.181344], [19.366903, -99.181344], [19.366903, -99.181344], [19.366903, -99.181344], [19.366903, -99.181344], [19.366903, -99.181344], [19.366903, -99.181344], [19.366903, -99.181344], [19.366903, -99.181344], [19.366903, -99.181344], [19.366903, -99.181344], [19.366903, -99.181344], [19.366903, -99.181344], [19.366903, -99.181344], [19.366903, -99.181344], [19.366903, -99.181344], [19.366903, -99.181344], [19.366903, -99.181344], [19.366903, -99.181344], [19.366903, -99.181344], [19.366903, -99.181344], [19.366903, -99.181344], [19.366903, -99.181344], [19.366903, -99.181344], [19.366903, -99.181344], [19.366903, -99.181344], [19.366903, -99.181344], [19.366903, -99.181344], [19.366903, -99.181344], [19.366903, -99.181344], [19.366903, -99.181344], [19.366903, -99.181344], [19.366903, -99.181344], [19.366903, -99.181344], [19.366903, -99.181344], [19.366903, -99.181344], [19.366903, -99.181344], [19.366903, -99.181344], [19.366903, -99.181344], [19.366903, -99.181344], [19.366903, -99.181344], [19.366903, -99.181344], [19.366903, -99.181344], [19.366903, -99.181344], [19.366903, -99.181344], [19.366903, -99.181344], [19.366903, -99.181344], [19.366903, -99.181344], [19.366903, -99.181344], [19.366903, -99.181344], [19.366903, -99.181344], [19.366903, -99.181344], [19.366903, -99.181344], [19.366903, -99.181344], [19.366903, -99.181344], [19.366903, -99.181344], [19.366903, -99.181344], [19.366903, -99.181344], [19.366903, -99.181344], [19.366903, -99.181344], [19.366903, -99.181344], [19.366903, -99.181344], [19.366903, -99.181344], [19.366903, -99.181344], [19.366903, -99.181344], [19.366903, -99.181344], [19.366903, -99.181344], [19.366903, -99.181344], [19.366903, -99.181344], [19.366903, -99.181344], [19.366903, -99.181344], [19.366903, -99.181344], [19.366903, -99.181344], [19.366903, -99.181344], [19.366903, -99.181344], [19.366903, -99.181344], [19.366903, -99.181344], [19.366903, -99.181344], [19.366903, -99.181344], [19.366903, -99.181344], [19.366903, -99.181344], [19.366903, -99.181344], [19.366903, -99.181344], [19.366903, -99.181344], [19.366903, -99.181344], [19.366903, -99.181344], [19.366903, -99.181344], [19.366903, -99.181344], [19.366903, -99.181344], [19.366903, -99.181344], [19.366903, -99.181344], [19.366903, -99.181344], [19.366903, -99.181344], [19.366903, -99.181344], [19.366903, -99.181344], [19.366903, -99.181344], [19.366903, -99.181344], [19.366903, -99.181344], [19.366903, -99.181344], [19.366903, -99.181344], [19.366903, -99.181344], [19.366903, -99.181344], [19.366903, -99.181344], [19.366903, -99.181344], [19.366903, -99.181344], [19.366903, -99.181344], [19.366903, -99.181344], [19.366903, -99.181344], [19.366903, -99.181344], [19.366903, -99.181344], [19.366903, -99.181344], [19.366903, -99.181344], [19.366903, -99.181344], [19.366903, -99.181344], [19.366903, -99.181344], [19.366903, -99.181344], [19.366903, -99.181344], [19.366903, -99.181344], [19.366903, -99.181344], [19.366903, -99.181344], [19.366903, -99.181344], [19.366903, -99.181344], [19.366903, -99.181344], [19.366903, -99.181344], [19.366903, -99.181344], [19.366903, -99.181344], [19.366903, -99.181344], [19.366903, -99.181344], [19.366903, -99.181344], [19.366903, -99.181344], [19.366903, -99.181344], [19.366903, -99.181344], [19.366903, -99.181344], [19.366903, -99.181344], [19.366903, -99.181344], [19.366903, -99.181344], [19.366903, -99.181344], [19.366903, -99.181344], [19.366903, -99.181344], [19.366903, -99.181344], [19.366903, -99.181344], [19.366903, -99.181344], [19.366903, -99.181344], [19.366903, -99.181344], [19.366903, -99.181344], [19.366903, -99.181344], [19.366903, -99.181344], [19.366903, -99.181344], [19.366903, -99.181344], [19.366903, -99.181344], [19.366903, -99.181344], [19.366903, -99.181344], [19.366903, -99.181344], [19.366903, -99.181344], [19.366903, -99.181344], [19.366903, -99.181344], [19.366903, -99.181344], [19.366903, -99.181344], [19.366903, -99.181344], [19.366903, -99.181344], [19.366903, -99.181344], [19.366903, -99.181344], [19.366903, -99.181344], [19.366903, -99.181344], [19.366903, -99.181344], [19.366903, -99.181344], [19.366903, -99.181344], [19.366903, -99.181344], [19.366903, -99.181344], [19.366903, -99.181344], [19.366903, -99.181344], [19.366903, -99.181344], [19.366903, -99.181344], [19.366903, -99.181344], [19.366903, -99.181344], [19.366903, -99.181344], [19.366903, -99.181344], [19.366903, -99.181344], [19.366903, -99.181344], [19.366903, -99.181344], [19.366903, -99.181344], [19.366903, -99.181344], [19.366903, -99.181344], [19.366903, -99.181344], [19.366903, -99.181344], [19.366903, -99.181344], [19.366903, -99.181344], [19.366903, -99.181344], [19.366903, -99.181344], [19.366903, -99.181344], [19.366903, -99.181344], [19.366903, -99.181344], [19.366903, -99.181344], [19.366903, -99.181344], [19.366903, -99.181344], [19.366903, -99.181344], [19.366903, -99.181344], [19.366903, -99.181344], [19.366903, -99.181344], [19.366903, -99.181344], [19.366903, -99.181344], [19.366903, -99.181344], [19.366903, -99.181344], [19.366903, -99.181344], [19.366903, -99.181344], [19.366903, -99.181344], [19.366903, -99.181344], [19.366903, -99.181344], [19.366903, -99.181344], [19.366903, -99.181344], [19.366903, -99.181344], [19.366903, -99.181344], [19.366903, -99.181344], [19.366903, -99.181344], [19.366903, -99.181344], [19.366903, -99.181344], [19.366903, -99.181344], [19.366903, -99.181344], [19.366903, -99.181344], [19.366903, -99.181344], [19.366903, -99.181344], [19.366903, -99.181344], [19.366903, -99.181344], [19.366903, -99.181344], [19.366903, -99.181344], [19.366903, -99.181344], [19.366903, -99.181344], [19.366903, -99.181344], [19.366903, -99.181344], [19.366903, -99.181344], [19.366903, -99.181344], [19.366903, -99.181344], [19.366903, -99.181344], [19.366903, -99.181344], [19.366903, -99.181344], [19.366903, -99.181344], [19.366903, -99.181344], [19.366903, -99.181344], [19.366903, -99.181344], [19.366903, -99.181344], [19.366903, -99.181344], [19.366903, -99.181344], [19.366903, -99.181344], [19.366903, -99.181344], [19.366903, -99.181344], [19.366903, -99.181344], [19.366903, -99.181344], [19.366903, -99.181344], [19.366903, -99.181344], [19.366903, -99.181344], [19.366903, -99.181344], [19.366903, -99.181344], [19.366903, -99.181344], [19.366903, -99.181344], [19.366903, -99.181344], [19.366903, -99.181344], [19.366903, -99.181344], [19.366903, -99.181344], [19.366903, -99.181344], [19.366903, -99.181344], [19.366903, -99.181344], [19.366903, -99.181344], [19.366903, -99.181344], [19.366903, -99.181344], [19.366903, -99.181344], [19.366903, -99.181344], [19.366903, -99.181344], [19.366903, -99.181344], [19.366903, -99.181344], [19.366903, -99.181344], [19.366903, -99.181344], [19.366903, -99.181344], [19.366903, -99.181344], [19.366903, -99.181344], [19.366903, -99.181344], [19.366903, -99.181344], [19.366903, -99.181344], [19.366903, -99.181344], [19.366903, -99.181344], [19.366903, -99.181344], [19.366903, -99.181344], [19.366903, -99.181344], [19.366903, -99.181344], [19.366903, -99.181344], [19.366903, -99.181344], [19.366903, -99.181344], [19.366903, -99.181344], [19.366903, -99.181344], [19.366903, -99.181344], [19.366903, -99.181344], [19.366903, -99.181344], [19.366903, -99.181344], [19.366903, -99.181344], [19.366903, -99.181344], [19.366903, -99.181344], [19.366903, -99.181344], [19.366903, -99.181344], [19.366903, -99.181344], [19.366903, -99.181344], [19.366903, -99.181344], [19.366903, -99.181344], [19.366903, -99.181344], [19.366903, -99.181344], [19.366903, -99.181344], [19.366903, -99.181344], [19.366903, -99.181344], [19.366903, -99.181344], [19.366903, -99.181344], [19.366903, -99.181344], [19.366903, -99.181344], [19.366903, -99.181344], [19.366903, -99.181344], [19.366903, -99.181344], [19.366903, -99.181344], [19.366903, -99.181344], [19.366903, -99.181344], [19.366903, -99.181344], [19.366903, -99.181344], [19.366903, -99.181344], [19.366903, -99.181344], [19.366903, -99.181344], [19.366903, -99.181344], [19.366903, -99.181344], [19.366903, -99.181344], [19.366903, -99.181344], [19.366903, -99.181344], [19.366903, -99.181344], [19.366903, -99.181344], [19.366903, -99.181344], [19.366903, -99.181344], [19.366903, -99.181344], [19.366903, -99.181344], [19.366903, -99.181344], [19.366903, -99.181344], [19.366903, -99.181344], [19.366903, -99.181344], [19.366903, -99.181344], [19.366903, -99.181344], [19.366903, -99.181344], [19.366903, -99.181344], [19.366903, -99.181344], [19.366903, -99.181344], [19.366903, -99.181344], [19.366903, -99.181344], [19.366903, -99.181344], [19.366903, -99.181344], [19.366903, -99.181344], [19.366903, -99.181344], [19.366903, -99.181344], [19.366903, -99.181344], [19.366903, -99.181344], [19.366903, -99.181344], [19.366903, -99.181344], [19.366903, -99.181344], [19.366903, -99.181344], [19.366903, -99.181344], [19.366903, -99.181344], [19.366903, -99.181344], [19.366903, -99.181344], [19.366903, -99.181344], [19.366903, -99.181344], [19.366903, -99.181344], [19.366903, -99.181344], [19.366903, -99.181344], [19.366903, -99.181344], [19.366903, -99.181344], [19.366903, -99.181344], [19.366903, -99.181344], [19.366903, -99.181344], [19.366903, -99.181344], [19.366903, -99.181344], [19.366903, -99.181344], [19.366903, -99.181344], [19.366903, -99.181344], [19.366903, -99.181344], [19.366903, -99.181344], [19.366903, -99.181344], [19.366903, -99.181344], [19.366903, -99.181344], [19.366903, -99.181344], [19.366903, -99.181344], [19.366903, -99.181344], [19.366903, -99.181344], [19.366903, -99.181344], [19.366903, -99.181344], [19.366903, -99.181344], [19.366903, -99.181344], [19.366903, -99.181344], [19.366903, -99.181344], [19.366903, -99.181344], [19.366903, -99.181344], [19.366903, -99.181344], [19.366903, -99.181344], [19.366903, -99.181344], [19.366903, -99.181344], [19.366903, -99.181344], [19.366903, -99.181344], [19.366903, -99.181344], [19.366903, -99.181344], [19.366903, -99.181344], [19.366903, -99.181344], [19.366903, -99.181344], [19.366903, -99.181344], [19.366903, -99.181344], [19.366903, -99.181344], [19.366903, -99.181344], [19.366903, -99.181344], [19.366903, -99.181344], [19.366903, -99.181344], [19.366903, -99.181344], [19.366903, -99.181344], [19.366903, -99.181344], [19.366903, -99.181344], [19.366903, -99.181344], [19.366903, -99.181344], [19.366903, -99.181344], [19.366903, -99.181344], [19.366903, -99.181344], [19.366903, -99.181344], [19.366903, -99.181344], [19.366903, -99.181344], [19.366903, -99.181344], [19.366903, -99.181344], [19.366903, -99.181344], [19.366903, -99.181344], [19.366903, -99.181344], [19.366903, -99.181344], [19.366903, -99.181344], [19.366903, -99.181344], [19.366903, -99.181344], [19.366903, -99.181344], [19.366903, -99.181344], [19.366903, -99.181344], [19.366903, -99.181344], [19.366903, -99.181344], [19.366903, -99.181344], [19.366903, -99.181344], [19.366903, -99.181344], [19.366903, -99.181344], [19.366903, -99.181344], [19.366903, -99.181344], [19.366903, -99.181344], [19.366903, -99.181344], [19.366903, -99.181344], [19.366903, -99.181344], [19.366903, -99.181344], [19.366903, -99.181344], [19.366903, -99.181344], [19.366903, -99.181344], [19.366903, -99.181344], [19.366903, -99.181344], [19.366903, -99.181344], [19.366903, -99.181344], [19.366903, -99.181344], [19.366903, -99.181344], [19.366903, -99.181344], [19.366903, -99.181344], [19.366903, -99.181344], [19.366903, -99.181344], [19.366903, -99.181344], [19.366903, -99.181344], [19.366903, -99.181344], [19.366903, -99.181344], [19.366903, -99.181344], [19.366903, -99.181344], [19.366903, -99.181344], [19.366903, -99.181344], [19.366903, -99.181344], [19.366903, -99.181344], [19.366903, -99.181344], [19.366903, -99.181344], [19.366903, -99.181344], [19.366903, -99.181344], [19.366903, -99.181344], [19.366903, -99.181344], [19.366903, -99.181344], [19.366903, -99.181344], [19.366903, -99.181344], [19.366903, -99.181344], [19.366903, -99.181344], [19.366903, -99.181344], [19.366903, -99.181344], [19.366903, -99.181344], [19.366903, -99.181344], [19.366903, -99.181344], [19.366903, -99.181344], [19.366903, -99.181344], [19.366903, -99.181344], [19.366903, -99.181344], [19.366903, -99.181344], [19.366903, -99.181344], [19.366903, -99.181344], [19.366903, -99.181344], [19.366903, -99.181344], [19.366903, -99.181344], [19.366903, -99.181344], [19.366903, -99.181344], [19.366903, -99.181344], [19.366903, -99.181344], [19.366903, -99.181344], [19.366903, -99.181344], [19.366903, -99.181344], [19.366903, -99.181344], [19.366903, -99.181344], [19.366903, -99.181344], [19.366903, -99.181344], [19.366903, -99.181344], [19.366903, -99.181344], [19.366903, -99.181344], [19.366903, -99.181344], [19.366903, -99.181344], [19.366903, -99.181344], [19.366903, -99.181344], [19.366903, -99.181344], [19.366903, -99.181344], [19.366903, -99.181344], [19.366903, -99.181344], [19.366903, -99.181344], [19.366903, -99.181344], [19.366903, -99.181344], [19.366903, -99.181344], [19.366903, -99.181344], [19.366903, -99.181344], [19.366903, -99.181344], [19.366903, -99.181344], [19.366903, -99.181344], [19.366903, -99.181344], [19.366903, -99.181344], [19.366903, -99.181344], [19.366903, -99.181344], [19.366903, -99.181344], [19.366903, -99.181344], [19.366903, -99.181344], [19.366903, -99.181344], [19.366903, -99.181344], [19.366903, -99.181344], [19.366903, -99.181344], [19.366903, -99.181344], [19.366903, -99.181344], [19.366903, -99.181344], [19.366903, -99.181344], [19.366903, -99.181344], [19.366903, -99.181344], [19.366903, -99.181344], [19.366903, -99.181344], [19.366903, -99.181344], [19.366903, -99.181344], [19.366903, -99.181344], [19.366903, -99.181344], [19.366903, -99.181344], [19.366903, -99.181344], [19.366903, -99.181344], [19.366903, -99.181344], [19.366903, -99.181344], [19.366903, -99.181344], [19.366903, -99.181344], [19.366903, -99.181344], [19.366903, -99.181344], [19.366903, -99.181344], [19.366903, -99.181344], [19.366903, -99.181344], [19.366903, -99.181344], [19.366903, -99.181344], [19.366903, -99.181344], [19.366903, -99.181344], [19.366903, -99.181344], [19.366903, -99.181344], [19.366903, -99.181344], [19.366903, -99.181344], [19.366903, -99.181344], [19.366903, -99.181344], [19.366903, -99.181344], [19.366903, -99.181344], [19.366903, -99.181344], [19.366903, -99.181344], [19.366903, -99.181344], [19.366903, -99.181344], [19.366903, -99.181344], [19.366903, -99.181344], [19.366903, -99.181344], [19.366903, -99.181344], [19.366903, -99.181344], [19.366903, -99.181344], [19.366903, -99.181344], [19.366903, -99.181344], [19.366903, -99.181344], [19.366903, -99.181344], [19.366903, -99.181344], [19.366903, -99.181344], [19.366903, -99.181344], [19.366903, -99.181344], [19.366903, -99.181344], [19.366903, -99.181344], [19.366903, -99.181344], [19.366903, -99.181344], [19.366903, -99.181344], [19.366903, -99.181344], [19.366903, -99.181344], [19.366903, -99.181344], [19.366903, -99.181344], [19.366903, -99.181344], [19.366903, -99.181344], [19.366903, -99.181344], [19.366903, -99.181344], [19.366903, -99.181344], [19.366903, -99.181344], [19.366903, -99.181344], [19.366903, -99.181344], [19.366903, -99.181344], [19.366903, -99.181344], [19.366903, -99.181344], [19.366903, -99.181344], [19.366903, -99.181344], [19.366903, -99.181344], [19.366903, -99.181344], [19.366903, -99.181344], [19.366903, -99.181344], [19.366903, -99.181344], [19.366903, -99.181344], [19.366903, -99.181344], [19.366903, -99.181344], [19.366903, -99.181344], [19.366903, -99.181344], [19.366903, -99.181344], [19.366903, -99.181344], [19.366903, -99.181344], [19.366903, -99.181344], [19.366903, -99.181344], [19.366903, -99.181344], [19.366903, -99.181344], [19.366903, -99.181344], [19.366903, -99.181344], [19.366903, -99.181344], [19.366903, -99.181344], [19.366903, -99.181344], [19.366903, -99.181344], [19.366903, -99.181344], [19.366903, -99.181344], [19.366903, -99.181344], [19.366903, -99.181344], [19.366903, -99.181344], [19.366903, -99.181344], [19.366903, -99.181344], [19.366903, -99.181344], [19.366903, -99.181344], [19.366903, -99.181344], [19.366903, -99.181344], [19.366903, -99.181344], [19.366903, -99.181344], [19.366903, -99.181344], [19.366903, -99.181344], [19.366903, -99.181344], [19.366903, -99.181344], [19.366903, -99.181344], [19.400879, -99.131672], [19.400879, -99.131672], [19.400879, -99.131672], [19.400879, -99.131672], [19.400879, -99.131672], [19.400879, -99.131672], [19.400879, -99.131672], [19.400879, -99.131672], [19.400879, -99.131672], [19.400879, -99.131672], [19.400879, -99.131672], [19.400879, -99.131672], [19.400879, -99.131672], [19.400879, -99.131672], [19.400879, -99.131672], [19.400879, -99.131672], [19.400879, -99.131672], [19.400879, -99.131672], [19.400879, -99.131672], [19.400879, -99.131672], [19.400879, -99.131672], [19.400879, -99.131672], [19.400879, -99.131672], [19.400879, -99.131672], [19.400879, -99.131672], [19.400879, -99.131672], [19.400879, -99.131672], [19.400879, -99.131672], [19.400879, -99.131672], [19.400879, -99.131672], [19.400879, -99.131672], [19.400879, -99.131672], [19.400879, -99.131672], [19.400879, -99.131672], [19.400879, -99.131672], [19.400879, -99.131672], [19.400879, -99.131672], [19.400879, -99.131672], [19.400879, -99.131672], [19.400879, -99.131672], [19.400879, -99.131672], [19.400879, -99.131672], [19.400879, -99.131672], [19.400879, -99.131672], [19.400879, -99.131672], [19.400879, -99.131672], [19.400879, -99.131672], [19.400879, -99.131672], [19.400879, -99.131672], [19.400879, -99.131672], [19.400879, -99.131672], [19.400879, -99.131672], [19.400879, -99.131672], [19.400879, -99.131672], [19.400879, -99.131672], [19.400879, -99.131672], [19.400879, -99.131672], [19.400879, -99.131672], [19.400879, -99.131672], [19.400879, -99.131672], [19.400879, -99.131672], [19.400879, -99.131672], [19.400879, -99.131672], [19.400879, -99.131672], [19.400879, -99.131672], [19.400879, -99.131672], [19.400879, -99.131672], [19.400879, -99.131672], [19.400879, -99.131672], [19.400879, -99.131672], [19.400879, -99.131672], [19.400879, -99.131672], [19.400879, -99.131672], [19.400879, -99.131672], [19.400879, -99.131672], [19.400879, -99.131672], [19.400879, -99.131672], [19.400879, -99.131672], [19.400879, -99.131672], [19.400879, -99.131672], [19.400879, -99.131672], [19.400879, -99.131672], [19.400879, -99.131672], [19.400879, -99.131672], [19.400879, -99.131672], [19.400879, -99.131672], [19.400879, -99.131672], [19.400879, -99.131672], [19.400879, -99.131672], [19.400879, -99.131672], [19.400879, -99.131672], [19.400879, -99.131672], [19.400879, -99.131672], [19.400879, -99.131672], [19.400879, -99.131672], [19.400879, -99.131672], [19.400879, -99.131672], [19.400879, -99.131672], [19.400879, -99.131672], [19.400879, -99.131672], [19.400879, -99.131672], [19.400879, -99.131672], [19.400879, -99.131672], [19.400879, -99.131672], [19.400879, -99.131672], [19.400879, -99.131672], [19.400879, -99.131672], [19.400879, -99.131672], [19.400879, -99.131672], [19.400879, -99.131672], [19.400879, -99.131672], [19.400879, -99.131672], [19.400879, -99.131672], [19.400879, -99.131672], [19.400879, -99.131672], [19.400879, -99.131672], [19.400879, -99.131672], [19.400879, -99.131672], [19.400879, -99.131672], [19.400879, -99.131672], [19.400879, -99.131672], [19.400879, -99.131672], [19.400879, -99.131672], [19.400879, -99.131672], [19.400879, -99.131672], [19.400879, -99.131672], [19.400879, -99.131672], [19.400879, -99.131672], [19.400879, -99.131672], [19.400879, -99.131672], [19.400879, -99.131672], [19.400879, -99.131672], [19.400879, -99.131672], [19.400879, -99.131672], [19.400879, -99.131672], [19.400879, -99.131672], [19.400879, -99.131672], [19.400879, -99.131672], [19.400879, -99.131672], [19.400879, -99.131672], [19.400879, -99.131672], [19.400879, -99.131672], [19.400879, -99.131672], [19.400879, -99.131672], [19.400879, -99.131672], [19.400879, -99.131672], [19.400879, -99.131672], [19.400879, -99.131672], [19.400879, -99.131672], [19.400879, -99.131672], [19.400879, -99.131672], [19.400879, -99.131672], [19.400879, -99.131672], [19.400879, -99.131672], [19.400879, -99.131672], [19.400879, -99.131672], [19.400879, -99.131672], [19.400879, -99.131672], [19.400879, -99.131672], [19.400879, -99.131672], [19.400879, -99.131672], [19.400879, -99.131672], [19.400879, -99.131672], [19.400879, -99.131672], [19.400879, -99.131672], [19.400879, -99.131672], [19.400879, -99.131672], [19.400879, -99.131672], [19.400879, -99.131672], [19.400879, -99.131672], [19.400879, -99.131672], [19.400879, -99.131672], [19.400879, -99.131672], [19.400879, -99.131672], [19.400879, -99.131672], [19.400879, -99.131672], [19.400879, -99.131672], [19.400879, -99.131672], [19.400879, -99.131672], [19.400879, -99.131672], [19.400879, -99.131672], [19.400879, -99.131672], [19.400879, -99.131672], [19.400879, -99.131672], [19.400879, -99.131672], [19.400879, -99.131672], [19.400879, -99.131672], [19.400879, -99.131672], [19.400879, -99.131672], [19.400879, -99.131672], [19.400879, -99.131672], [19.400879, -99.131672], [19.400879, -99.131672], [19.400879, -99.131672], [19.400879, -99.131672], [19.483909, -99.23318], [19.483909, -99.23318], [19.483909, -99.23318], [19.483909, -99.23318], [19.483909, -99.23318], [19.483909, -99.23318], [19.483909, -99.23318], [19.483909, -99.23318], [19.483909, -99.23318], [19.483909, -99.23318], [19.483909, -99.23318], [19.483909, -99.23318], [19.483909, -99.23318], [19.483909, -99.23318], [19.483909, -99.23318], [19.483909, -99.23318], [19.483909, -99.23318], [19.483909, -99.23318], [19.483909, -99.23318], [19.483909, -99.23318], [19.483909, -99.23318], [19.483909, -99.23318], [19.483909, -99.23318], [19.483909, -99.23318], [19.483909, -99.23318], [19.483909, -99.23318], [19.483909, -99.23318], [19.483909, -99.23318], [19.483909, -99.23318], [19.483909, -99.23318], [19.483909, -99.23318], [19.483909, -99.23318], [19.483909, -99.23318], [19.483909, -99.23318], [19.483909, -99.23318], [19.483909, -99.23318], [19.483909, -99.23318], [19.483909, -99.23318], [19.483909, -99.23318], [19.483909, -99.23318], [19.483909, -99.23318], [19.483909, -99.23318], [19.483909, -99.23318], [19.483909, -99.23318], [19.483909, -99.23318], [19.483909, -99.23318], [19.483909, -99.23318], [19.483909, -99.23318], [19.483909, -99.23318], [19.483909, -99.23318], [19.483909, -99.23318], [19.483909, -99.23318], [19.483909, -99.23318], [19.483909, -99.23318], [19.483909, -99.23318], [19.483909, -99.23318], [19.483909, -99.23318], [19.483909, -99.23318], [19.483909, -99.23318], [19.483909, -99.23318], [19.483909, -99.23318], [19.483909, -99.23318], [19.483909, -99.23318], [19.483909, -99.23318], [19.483909, -99.23318], [19.483909, -99.23318], [19.483909, -99.23318], [19.483909, -99.23318], [19.483909, -99.23318], [19.483909, -99.23318], [19.483909, -99.23318], [19.483909, -99.23318], [19.483909, -99.23318], [19.483909, -99.23318], [19.483909, -99.23318], [19.483909, -99.23318], [19.483909, -99.23318], [19.483909, -99.23318], [19.483909, -99.23318], [19.483909, -99.23318], [19.483909, -99.23318], [19.483909, -99.23318], [19.483909, -99.23318], [19.483909, -99.23318], [19.483909, -99.23318], [19.483909, -99.23318], [19.483909, -99.23318], [19.483909, -99.23318], [19.483909, -99.23318], [19.483909, -99.23318], [19.483909, -99.23318], [19.483909, -99.23318], [19.483909, -99.23318], [19.483909, -99.23318], [19.483909, -99.23318], [19.483909, -99.23318], [19.483909, -99.23318], [19.483909, -99.23318], [19.483909, -99.23318], [19.483909, -99.23318], [19.483909, -99.23318], [19.483909, -99.23318], [19.483909, -99.23318], [19.483909, -99.23318], [19.483909, -99.23318], [19.483909, -99.23318], [19.483909, -99.23318], [19.483909, -99.23318], [19.483909, -99.23318], [19.483909, -99.23318], [19.483909, -99.23318], [19.483909, -99.23318], [19.483909, -99.23318], [19.483909, -99.23318], [19.483909, -99.23318], [19.483909, -99.23318], [19.483909, -99.23318], [19.483909, -99.23318], [19.483909, -99.23318], [19.483909, -99.23318], [19.483909, -99.23318], [19.483909, -99.23318], [19.483909, -99.23318], [19.483909, -99.23318], [19.483909, -99.23318], [19.483909, -99.23318], [19.483909, -99.23318], [19.483909, -99.23318], [19.483909, -99.23318], [19.483909, -99.23318], [19.483909, -99.23318], [19.483909, -99.23318], [19.483909, -99.23318], [19.483909, -99.23318], [19.483909, -99.23318], [19.483909, -99.23318], [19.483909, -99.23318], [19.483909, -99.23318], [19.483909, -99.23318], [19.483909, -99.23318], [19.483909, -99.23318], [19.483909, -99.23318], [19.483909, -99.23318], [19.483909, -99.23318], [19.483909, -99.23318], [19.483909, -99.23318], [19.483909, -99.23318], [19.483909, -99.23318], [19.483909, -99.23318], [19.483909, -99.23318], [19.483909, -99.23318], [19.483909, -99.23318], [19.483909, -99.23318], [19.483909, -99.23318], [19.483909, -99.23318], [19.483909, -99.23318], [19.483909, -99.23318], [19.483909, -99.23318], [19.483909, -99.23318], [19.483909, -99.23318], [19.483909, -99.23318], [19.483909, -99.23318], [19.483909, -99.23318], [19.483909, -99.23318], [19.483909, -99.23318], [19.483909, -99.23318], [19.483909, -99.23318], [19.483909, -99.23318], [19.483909, -99.23318], [19.483909, -99.23318], [19.483909, -99.23318], [19.483909, -99.23318], [19.483909, -99.23318], [19.483909, -99.23318], [19.483909, -99.23318], [19.483909, -99.23318], [19.483909, -99.23318], [19.483909, -99.23318], [19.483909, -99.23318], [19.483909, -99.23318], [19.483909, -99.23318], [19.483909, -99.23318], [19.483909, -99.23318], [19.483909, -99.23318], [19.483909, -99.23318], [19.483909, -99.23318], [19.483909, -99.23318], [19.483909, -99.23318], [19.483909, -99.23318], [19.483909, -99.23318], [19.483909, -99.23318], [19.483909, -99.23318], [19.483909, -99.23318], [19.483909, -99.23318], [19.483909, -99.23318], [19.483909, -99.23318], [19.483909, -99.23318], [19.483909, -99.23318], [19.483909, -99.23318], [19.483909, -99.23318], [19.483909, -99.23318], [19.483909, -99.23318], [19.483909, -99.23318], [19.483909, -99.23318], [19.483909, -99.23318], [19.483909, -99.23318], [19.483909, -99.23318], [19.483909, -99.23318], [19.483909, -99.23318], [19.483909, -99.23318], [19.483909, -99.23318], [19.483909, -99.23318], [19.483909, -99.23318], [19.483909, -99.23318], [19.483909, -99.23318], [19.483909, -99.23318], [19.483909, -99.23318], [19.483909, -99.23318], [19.483909, -99.23318], [19.483909, -99.23318], [19.483909, -99.23318], [19.483909, -99.23318], [19.483909, -99.23318], [19.483909, -99.23318], [19.483909, -99.23318], [19.483909, -99.23318], [19.483909, -99.23318], [19.483909, -99.23318], [19.483909, -99.23318], [19.483909, -99.23318], [19.483909, -99.23318], [19.483909, -99.23318], [19.483909, -99.23318], [19.483909, -99.23318], [19.483909, -99.23318], [19.483909, -99.23318], [19.483909, -99.23318], [19.483909, -99.23318], [19.483909, -99.23318], [19.483909, -99.23318], [19.483909, -99.23318], [19.483909, -99.23318], [19.483909, -99.23318], [19.483909, -99.23318], [19.483909, -99.23318], [19.483909, -99.23318], [19.483909, -99.23318], [19.483909, -99.23318], [19.483909, -99.23318], [19.483909, -99.23318], [19.483909, -99.23318], [19.483909, -99.23318], [19.483909, -99.23318], [19.483909, -99.23318], [19.483909, -99.23318], [19.483909, -99.23318], [19.483909, -99.23318], [19.483909, -99.23318], [19.483909, -99.23318], [19.483909, -99.23318], [19.483909, -99.23318], [19.483909, -99.23318], [19.483909, -99.23318], [19.483909, -99.23318], [19.483909, -99.23318], [19.483909, -99.23318], [19.483909, -99.23318], [19.483909, -99.23318], [19.483909, -99.23318], [19.483909, -99.23318], [19.483909, -99.23318], [19.483909, -99.23318], [19.483909, -99.23318], [19.483909, -99.23318], [19.483909, -99.23318], [19.483909, -99.23318], [19.483909, -99.23318], [19.483909, -99.23318], [19.483909, -99.23318], [19.483909, -99.23318], [19.483909, -99.23318], [19.483909, -99.23318], [19.483909, -99.23318], [19.483909, -99.23318], [19.483909, -99.23318], [19.483909, -99.23318], [19.483909, -99.23318]]]\n"
     ]
    },
    {
     "data": {
      "text/html": [
       "<div style=\"width:100%;\"><div style=\"position:relative;width:100%;height:0;padding-bottom:60%;\"><span style=\"color:#565656\">Make this Notebook Trusted to load map: File -> Trust Notebook</span><iframe src=\"about:blank\" style=\"position:absolute;width:100%;height:100%;left:0;top:0;border:none !important;\" data-html=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 onload=\"this.contentDocument.open();this.contentDocument.write(atob(this.getAttribute('data-html')));this.contentDocument.close();\" allowfullscreen webkitallowfullscreen mozallowfullscreen></iframe></div></div>"
      ],
      "text/plain": [
       "<folium.folium.Map at 0x27006cb0ca0>"
      ]
     },
     "execution_count": 159,
     "metadata": {},
     "output_type": "execute_result"
    }
   ],
   "source": [
    "from folium import plugins\n",
    "import folium\n",
    "import sys\n",
    "import pandas as pd\n",
    "import datetime\n",
    "\n",
    "#19.44244244\t-99.1309882\n",
    "dataset=pd.read_csv('.\\data\\sample.csv')\n",
    "map_hooray = folium.Map(location=[19.4424, -99.1309882],zoom_start = 13) \n",
    "df_acc=dataset\n",
    "print('Hola')\n",
    "print(df_acc[df_acc['direccion']=='AV. LAGO DE GUADALUPE S/N ESQ. DE LAS VILLAS'])\n",
    "# Ensure you're handing it floats\n",
    "df_acc['latitud'] = df_acc['latitud'].astype(float)\n",
    "df_acc['longitud'] = df_acc['longitud'].astype(float)\n",
    "\n",
    "nan_rows = df_acc[df_acc['latitud'].isnull()]\n",
    "print(nan_rows)\n",
    "\n",
    "#converting it to datetime format\n",
    "\n",
    "df_acc['fechaRegistro']=pd.to_datetime(df_acc['fechaRegistro'])\n",
    "#formatting the index\n",
    "heat_df=df_acc\n",
    "heat_df['Timestamp']=heat_df['fechaRegistro'].dt.strftime('%d/%m/%Y, %H:%M:%S')\n",
    "heat_df2=heat_df[['latitud','longitud','Timestamp']]\n",
    "date_strings=heat_df2['Timestamp'].unique()\n",
    "heat_df2=heat_df2.dropna()\n",
    "#heat_df['fechaRegistro'] = heat_df['fechaRegistro'].astype('datetime64[us]').astype(datetime.datetime).strftime('%d/%m/%Y, %H:%M:%S')\n",
    "heat_data = [[[row['latitud'],row['longitud']] for index,row in heat_df2[heat_df2['Timestamp'] == fecha].iterrows()] for fecha in date_strings]\n",
    "#print(date_strings)\n",
    "print(heat_data)\n",
    "# Plot it on the map\n",
    "hm = plugins.HeatMapWithTime(heat_data,auto_play=True,max_opacity=0.8)\n",
    "hm.add_to(map_hooray)\n",
    "# Display the map\n",
    "map_hooray\n",
    "#print(date_strings)\n",
    "#%reset -f\n"
   ]
  },
  {
   "cell_type": "code",
   "execution_count": 150,
   "metadata": {},
   "outputs": [
    {
     "name": "stdout",
     "output_type": "stream",
     "text": [
      "<class 'pandas.core.frame.DataFrame'>\n",
      "Int64Index: 1229 entries, 0 to 1998\n",
      "Data columns (total 3 columns):\n",
      " #   Column     Non-Null Count  Dtype  \n",
      "---  ------     --------------  -----  \n",
      " 0   latitud    1229 non-null   float64\n",
      " 1   longitud   1229 non-null   float64\n",
      " 2   Timestamp  1229 non-null   object \n",
      "dtypes: float64(2), object(1)\n",
      "memory usage: 38.4+ KB\n"
     ]
    }
   ],
   "source": [
    "\n",
    "'''# Create weight column, using date\n",
    "#heat_df['Weight'] = df_acc['fechaRegistro']\n",
    "heat_df['Weight'] = heat_df['Weight'].astype(float)\n",
    "heat_df = heat_df.dropna(axis=0, subset=['latitud','longitud', 'Weight'])\n",
    "\n",
    "# List comprehension to make out list of lists\n",
    "heat_data = [[[row['latitud'],row['Longitude']] for index, row in heat_df[heat_df['Weight'] == i].iterrows()] for i in range(0,13)]\n",
    "\n",
    "# Plot it on the map\n",
    "hm = plugins.HeatMapWithTime(heat_data,auto_play=True,max_opacity=0.8)\n",
    "hm.add_to(map_hooray)\n",
    "# Display the map\n",
    "map_hooray'''\n",
    "heat_df2.head()\n",
    "heat_df2.info()"
   ]
  },
  {
   "cell_type": "code",
   "execution_count": 119,
   "metadata": {},
   "outputs": [
    {
     "ename": "NameError",
     "evalue": "name 'read_chunk' is not defined",
     "output_type": "error",
     "traceback": [
      "\u001b[1;31m---------------------------------------------------------------------------\u001b[0m",
      "\u001b[1;31mNameError\u001b[0m                                 Traceback (most recent call last)",
      "\u001b[1;32m<ipython-input-119-303238186587>\u001b[0m in \u001b[0;36m<module>\u001b[1;34m\u001b[0m\n\u001b[0;32m      7\u001b[0m \u001b[0mCOLUMNS_Q3\u001b[0m\u001b[1;33m=\u001b[0m\u001b[1;33m[\u001b[0m\u001b[1;34m'fechaRegistro'\u001b[0m\u001b[1;33m]\u001b[0m\u001b[1;33m\u001b[0m\u001b[1;33m\u001b[0m\u001b[0m\n\u001b[0;32m      8\u001b[0m \u001b[0mdataset_Q3\u001b[0m\u001b[1;33m=\u001b[0m\u001b[0mdataset\u001b[0m\u001b[1;33m[\u001b[0m\u001b[0mCOLUMNS_Q3\u001b[0m\u001b[1;33m]\u001b[0m\u001b[1;33m\u001b[0m\u001b[1;33m\u001b[0m\u001b[0m\n\u001b[1;32m----> 9\u001b[1;33m \u001b[0mdataset\u001b[0m\u001b[1;33m=\u001b[0m\u001b[0mread_chunk\u001b[0m\u001b[1;33m(\u001b[0m\u001b[0mCOLUMNS_Q3\u001b[0m\u001b[1;33m)\u001b[0m\u001b[1;33m\u001b[0m\u001b[1;33m\u001b[0m\u001b[0m\n\u001b[0m\u001b[0;32m     10\u001b[0m \u001b[0mprint\u001b[0m\u001b[1;33m(\u001b[0m\u001b[1;34m'Result '\u001b[0m\u001b[1;33m,\u001b[0m\u001b[0mdataset\u001b[0m\u001b[1;33m[\u001b[0m\u001b[1;34m'fechaRegistro'\u001b[0m\u001b[1;33m]\u001b[0m\u001b[1;33m.\u001b[0m\u001b[0mnunique\u001b[0m\u001b[1;33m(\u001b[0m\u001b[1;33m)\u001b[0m\u001b[1;33m)\u001b[0m\u001b[1;33m\u001b[0m\u001b[1;33m\u001b[0m\u001b[0m\n",
      "\u001b[1;31mNameError\u001b[0m: name 'read_chunk' is not defined"
     ]
    }
   ],
   "source": [
    "import pandas as pd\n",
    "\n",
    "#dataset=pd.read_csv('.\\data\\sample.csv')\n",
    "dataset['fechaRegistro'].nunique()\n",
    "dataset.head()\n",
    "dataset['fechaRegistro'].nunique()\n",
    "COLUMNS_Q3=['fechaRegistro']\n",
    "dataset_Q3=dataset[COLUMNS_Q3]\n",
    "dataset=read_chunk(COLUMNS_Q3)\n",
    "print('Result ',dataset['fechaRegistro'].nunique())\n"
   ]
  },
  {
   "cell_type": "markdown",
   "metadata": {},
   "source": [
    "# Q5 What are the lessons learned from this excersice?"
   ]
  },
  {
   "cell_type": "markdown",
   "metadata": {},
   "source": [
    "# Q6 Can you identify other ways to approach this problem? Explain."
   ]
  },
  {
   "cell_type": "code",
   "execution_count": null,
   "metadata": {},
   "outputs": [],
   "source": []
  }
 ],
 "metadata": {
  "kernelspec": {
   "display_name": "Python 3",
   "language": "python",
   "name": "python3"
  },
  "language_info": {
   "codemirror_mode": {
    "name": "ipython",
    "version": 3
   },
   "file_extension": ".py",
   "mimetype": "text/x-python",
   "name": "python",
   "nbconvert_exporter": "python",
   "pygments_lexer": "ipython3",
   "version": "3.8.3"
  }
 },
 "nbformat": 4,
 "nbformat_minor": 4
}
